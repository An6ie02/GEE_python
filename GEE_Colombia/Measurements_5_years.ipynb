{
 "cells": [
  {
   "cell_type": "code",
   "execution_count": 6,
   "id": "5345e93f-6fd3-4315-a439-f0d0555136f1",
   "metadata": {},
   "outputs": [
    {
     "data": {
      "application/vnd.jupyter.widget-view+json": {
       "model_id": "be5ad8ea713547b7b5afb19ef9fdbd77",
       "version_major": 2,
       "version_minor": 0
      },
      "text/plain": [
       "Map(center=[20, 0], controls=(WidgetControl(options=['position', 'transparent_bg'], widget=HBox(children=(Togg…"
      ]
     },
     "execution_count": 6,
     "metadata": {},
     "output_type": "execute_result"
    }
   ],
   "source": [
    "import ee\n",
    "import geemap\n",
    "import geopandas as gpd\n",
    "from ipyleaflet import GeoJSON\n",
    "from zipfile import ZipFile\n",
    "\n",
    "ee.Initialize()\n",
    "\n",
    "initDate = '2018-05-31'\n",
    "finalDate = '2018-06-01'\n",
    "s5p_layer = 'CH4_column_volume_mixing_ratio_dry_air_bias_corrected'\n",
    "s5p_methane_dataset = ee.ImageCollection(\"COPERNICUS/S5P/OFFL/L3_CH4\")\n",
    "s5p_metane = s5p_methane_dataset.select(s5p_layer).filterDate(initDate, finalDate)\n",
    "\n",
    "\n",
    "Map = geemap.Map()\n",
    "\n",
    "Colombia = ee.FeatureCollection('users/hmojica/data/departamentos')\n",
    "style = {'color': '000000', 'width': 2, 'lineType': 'solid', 'fillColor': '00000000'}\n",
    "Map.addLayer(Colombia.style(**style), {}, \"Departamentos\")\n",
    "\n",
    "\n",
    "\n",
    "#departamentosNombres = Colombia.aggregate_array('DPTO_CNMBR').getInfo()\n",
    "#print(departamentosNombres)\n",
    "\n",
    "s5p_methane_viz = {\n",
    "    'min': 1600,\n",
    "    'max': 2000,\n",
    "    'palette': ['black', 'blue', 'purple', 'cyan', 'green', 'yellow', 'red'],\n",
    "    'opacity': 1.0\n",
    "}\n",
    "\n",
    "Map\n"
   ]
  },
  {
   "cell_type": "code",
   "execution_count": 7,
   "id": "15aa0d33-e1ca-42a9-a461-83f24ec4e116",
   "metadata": {},
   "outputs": [
    {
     "data": {
      "text/plain": [
       "\"\\nfor dpmnto in departamentosNombres:\\n    departamento_shp = Colombia.filterMetadata('DPTO_CNMBR', 'equals', dpmnto)\\n    s5p_metane_dpto = s5p_metane.filterBounds(departamento_shp)\\n    s5p_metane_img = s5p_metane_dpto.map(lambda image: image.clip(departamento_shp))\\n    \\n\\n    Map.addLayer(s5p_metane_img.mean(), s5p_methane_viz, 'methane in ' + dpmnto)\\n\""
      ]
     },
     "execution_count": 7,
     "metadata": {},
     "output_type": "execute_result"
    }
   ],
   "source": [
    "# esto plotea la capa de metano departamento a departamento\n",
    "\"\"\"\n",
    "for dpmnto in departamentosNombres:\n",
    "    departamento_shp = Colombia.filterMetadata('DPTO_CNMBR', 'equals', dpmnto)\n",
    "    s5p_metane_dpto = s5p_metane.filterBounds(departamento_shp)\n",
    "    s5p_metane_img = s5p_metane_dpto.map(lambda image: image.clip(departamento_shp))\n",
    "    \n",
    "\n",
    "    Map.addLayer(s5p_metane_img.mean(), s5p_methane_viz, 'methane in ' + dpmnto)\n",
    "\"\"\""
   ]
  },
  {
   "cell_type": "code",
   "execution_count": 8,
   "id": "3ac3020d-9d28-47e7-b912-68d61034d5a2",
   "metadata": {},
   "outputs": [],
   "source": [
    "# Aquí se plotea usando un shapefile del mundo y filtrando solo colombia\n",
    "\n",
    "countries = ee.FeatureCollection('users/hmojica/data/countries')\n",
    "fronteras_maritimas = ee.FeatureCollection('projects/ee-jolejua/assets/EEZ_land_union_v3_202003')\n",
    "\n",
    "# Filtrar el SHP\n",
    "# colombia_shp = Colombia.filterMetadata('DPTO_CNMBR', 'equals', 'BOYACÁ')\n",
    "\n",
    "# para ver elcontenido del SHP\n",
    "#fronteras_maritimas.aggregate_array('UNION').getInfo() #UNION = Colombia\n",
    "\n",
    "colombia_maritimo_shp = fronteras_maritimas.filterMetadata('UNION', 'equals', 'Colombia')\n",
    "depto_shp = Colombia.filterMetadata('DPTO_CNMBR', 'equals', 'CESAR')"
   ]
  },
  {
   "cell_type": "code",
   "execution_count": 9,
   "id": "a8cbf3d6-8b7e-4dfb-8559-685777a8161f",
   "metadata": {},
   "outputs": [],
   "source": [
    "\n",
    "s5p_metane_all = s5p_metane.filterBounds(colombia_maritimo_shp)\n",
    "s5p_metane_img_Col = s5p_metane_all.map(lambda image: image.clip(colombia_maritimo_shp))\n",
    "\n",
    "\n",
    "#Map.addLayer(s5p_metane_img.mean(), s5p_methane_viz, 'methane in Colombia ')\n",
    "\n",
    "#Map.centerObject(Colombia, 11)\n"
   ]
  },
  {
   "cell_type": "code",
   "execution_count": 9,
   "id": "2951509c-e02b-476d-8ff4-7a943a582c6e",
   "metadata": {},
   "outputs": [],
   "source": [
    "import os\n",
    "out_dir = os.path.join(os.path.expanduser('~'), 'Downloads/colombia/GEOTIFF')\n",
    "filename = os.path.join(out_dir, 'methane3000.tif')"
   ]
  },
  {
   "cell_type": "code",
   "execution_count": 10,
   "id": "0a805277-a1fb-46d8-976b-467e69eada40",
   "metadata": {},
   "outputs": [
    {
     "name": "stdout",
     "output_type": "stream",
     "text": [
      "Generating URL ...\n",
      "Downloading data from https://earthengine.googleapis.com/v1alpha/projects/earthengine-legacy/thumbnails/2b3368fcd20ca723cfcf3f9bbc2a4975-2da119f4f8ab927de34750b8ed56e55f:getPixels\n",
      "Please wait ...\n",
      "An error occurred while downloading. the request was not succefull\n"
     ]
    }
   ],
   "source": [
    "import requests\n",
    "ee.data.setDeadline(0)\n",
    "image = s5p_metane.mean().clip(colombia_maritimo_shp.geometry()).unmask()\n",
    "geemap.ee_export_image(\n",
    "    image, filename=filename, scale=3000, region=colombia_maritimo_shp.geometry(), file_per_band=False\n",
    ")"
   ]
  },
  {
   "cell_type": "code",
   "execution_count": 81,
   "id": "0e4327a4-27ac-4659-b104-2c3814829d56",
   "metadata": {},
   "outputs": [],
   "source": [
    "import rasterio\n",
    "import numpy as np\n",
    "\n",
    "# Leer el archivo .tif en un arreglo de NumPy\n",
    "with rasterio.open('methane.tif') as src:\n",
    "    image = src.read(1)\n",
    "\n",
    "# Guardar el arreglo en un archivo .csv\n",
    "np.savetxt('archivo.csv', image, delimiter=',')"
   ]
  },
  {
   "cell_type": "code",
   "execution_count": 87,
   "id": "513f209c-20b7-44b1-a070-3b98f4667f40",
   "metadata": {},
   "outputs": [
    {
     "ename": "ModuleNotFoundError",
     "evalue": "No module named 'georasters'",
     "output_type": "error",
     "traceback": [
      "\u001b[0;31m---------------------------------------------------------------------------\u001b[0m",
      "\u001b[0;31mModuleNotFoundError\u001b[0m                       Traceback (most recent call last)",
      "Cell \u001b[0;32mIn[87], line 1\u001b[0m\n\u001b[0;32m----> 1\u001b[0m \u001b[38;5;28;01mimport\u001b[39;00m \u001b[38;5;21;01mgeorasters\u001b[39;00m \u001b[38;5;28;01mas\u001b[39;00m \u001b[38;5;21;01mgr\u001b[39;00m\n\u001b[1;32m      2\u001b[0m NO2\u001b[38;5;241m=\u001b[39mgr\u001b[38;5;241m.\u001b[39mfrom_file(\u001b[38;5;124m'\u001b[39m\u001b[38;5;124mmethane.tif\u001b[39m\u001b[38;5;124m'\u001b[39m)\n\u001b[1;32m      3\u001b[0m NO2df\u001b[38;5;241m=\u001b[39mNO2\u001b[38;5;241m.\u001b[39mto_geopandas()\n",
      "\u001b[0;31mModuleNotFoundError\u001b[0m: No module named 'georasters'"
     ]
    }
   ],
   "source": [
    "import georasters as gr\n",
    "NO2=gr.from_file('methane.tif')\n",
    "NO2df=NO2.to_geopandas()\n",
    "NO2df[NO2df['value']!=0].plot(column='value',legend=True)"
   ]
  },
  {
   "cell_type": "code",
   "execution_count": 51,
   "id": "79e81d68-6108-45c0-b1c8-9e0f02fac9f0",
   "metadata": {},
   "outputs": [
    {
     "name": "stdout",
     "output_type": "stream",
     "text": [
      "Generating URL ...\n",
      "An error occurred while downloading.\n",
      "Total request size (152076447 bytes) must be less than or equal to 50331648 bytes.\n"
     ]
    }
   ],
   "source": [
    "geemap.ee_export_image(\n",
    "    imagen, filename=filename, scale=10000, region=fronteras_maritimas.geometry(), file_per_band=True\n",
    ")"
   ]
  },
  {
   "cell_type": "code",
   "execution_count": 54,
   "id": "a7093483-09da-49f5-bdbf-1092255bc640",
   "metadata": {},
   "outputs": [
    {
     "name": "stdout",
     "output_type": "stream",
     "text": [
      "The ee_object must be an ee.ImageCollection.\n"
     ]
    }
   ],
   "source": [
    "geemap.ee_export_image_collection(s5p_metane_img.geometry(), out_dir=out_dir)"
   ]
  },
  {
   "cell_type": "code",
   "execution_count": null,
   "id": "474ef6f3-f6d2-4346-b119-84465fc8ec76",
   "metadata": {},
   "outputs": [],
   "source": [
    "geemap.ee_export_image_collection_to_drive(s5p_metane_img, folder='export', scale=10)"
   ]
  },
  {
   "cell_type": "code",
   "execution_count": 12,
   "id": "76e71ac9-3d44-4240-bb57-1a397fcc6a78",
   "metadata": {},
   "outputs": [],
   "source": [
    "Map.add_colorbar(\n",
    "    s5p_methane_viz,\n",
    "    label=\"Methane meditions (mol/mol)\",\n",
    "    layer_name=\"Methane colorbar\",\n",
    "    transparent_bg=True\n",
    ")\n"
   ]
  },
  {
   "cell_type": "code",
   "execution_count": 36,
   "id": "d1cc9b2c-f12f-4afd-832e-779cf526da35",
   "metadata": {},
   "outputs": [],
   "source": []
  },
  {
   "cell_type": "code",
   "execution_count": 39,
   "id": "0f08820d-1d8c-4085-a35b-0767c91dd6d1",
   "metadata": {},
   "outputs": [],
   "source": []
  },
  {
   "cell_type": "code",
   "execution_count": 40,
   "id": "2d5e344a-3ecc-4afe-9cee-f5ef2f3e28c7",
   "metadata": {},
   "outputs": [],
   "source": []
  },
  {
   "cell_type": "code",
   "execution_count": null,
   "id": "c5d807a7-d9f3-4555-82de-439c2f453f0f",
   "metadata": {},
   "outputs": [],
   "source": []
  }
 ],
 "metadata": {
  "kernelspec": {
   "display_name": "Python 3 (ipykernel)",
   "language": "python",
   "name": "python3"
  },
  "language_info": {
   "codemirror_mode": {
    "name": "ipython",
    "version": 3
   },
   "file_extension": ".py",
   "mimetype": "text/x-python",
   "name": "python",
   "nbconvert_exporter": "python",
   "pygments_lexer": "ipython3",
   "version": "3.7.16"
  }
 },
 "nbformat": 4,
 "nbformat_minor": 5
}
