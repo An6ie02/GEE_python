{
 "cells": [
  {
   "cell_type": "code",
   "execution_count": 1,
   "id": "5345e93f-6fd3-4315-a439-f0d0555136f1",
   "metadata": {},
   "outputs": [
    {
     "data": {
      "application/vnd.jupyter.widget-view+json": {
       "model_id": "07150fa7a1974955801df6c94a3fb01e",
       "version_major": 2,
       "version_minor": 0
      },
      "text/plain": [
       "Map(center=[20, 0], controls=(WidgetControl(options=['position', 'transparent_bg'], widget=HBox(children=(Togg…"
      ]
     },
     "execution_count": 1,
     "metadata": {},
     "output_type": "execute_result"
    }
   ],
   "source": [
    "import ee\n",
    "import geemap\n",
    "import geopandas as gpd\n",
    "from ipyleaflet import GeoJSON\n",
    "from zipfile import ZipFile\n",
    "\n",
    "ee.Initialize()\n",
    "\n",
    "initDate = '2018-05-31'\n",
    "finalDate = '2022-12-31'\n",
    "s5p_layer = 'CH4_column_volume_mixing_ratio_dry_air_bias_corrected'\n",
    "s5p_methane_dataset = ee.ImageCollection(\"COPERNICUS/S5P/OFFL/L3_CH4\")\n",
    "s5p_metane = s5p_methane_dataset.select(s5p_layer).filterDate(initDate, finalDate)\n",
    "\n",
    "\n",
    "Map = geemap.Map()\n",
    "\n",
    "Colombia = ee.FeatureCollection('users/hmojica/data/departamentos')\n",
    "style = {'color': '000000', 'width': 2, 'lineType': 'solid', 'fillColor': '00000000'}\n",
    "Map.addLayer(Colombia.style(**style), {}, \"Departamentos\")\n",
    "\n",
    "\n",
    "\n",
    "#departamentosNombres = Colombia.aggregate_array('DPTO_CNMBR').getInfo()\n",
    "#print(departamentosNombres)\n",
    "\n",
    "s5p_methane_viz = {\n",
    "    'min': 1600,\n",
    "    'max': 2000,\n",
    "    'palette': ['black', 'blue', 'purple', 'cyan', 'green', 'yellow', 'red'],\n",
    "    'opacity': 1.0\n",
    "}\n",
    "\n",
    "Map\n"
   ]
  },
  {
   "cell_type": "code",
   "execution_count": 4,
   "id": "15aa0d33-e1ca-42a9-a461-83f24ec4e116",
   "metadata": {},
   "outputs": [
    {
     "data": {
      "text/plain": [
       "\"\\nfor dpmnto in departamentosNombres:\\n    departamento_shp = Colombia.filterMetadata('DPTO_CNMBR', 'equals', dpmnto)\\n    s5p_metane_dpto = s5p_metane.filterBounds(departamento_shp)\\n    s5p_metane_img = s5p_metane_dpto.map(lambda image: image.clip(departamento_shp))\\n    \\n\\n    Map.addLayer(s5p_metane_img.mean(), s5p_methane_viz, 'methane in ' + dpmnto)\\n\""
      ]
     },
     "execution_count": 4,
     "metadata": {},
     "output_type": "execute_result"
    }
   ],
   "source": [
    "# esto plotea la capa de metano departamento a departamento\n",
    "\"\"\"\n",
    "for dpmnto in departamentosNombres:\n",
    "    departamento_shp = Colombia.filterMetadata('DPTO_CNMBR', 'equals', dpmnto)\n",
    "    s5p_metane_dpto = s5p_metane.filterBounds(departamento_shp)\n",
    "    s5p_metane_img = s5p_metane_dpto.map(lambda image: image.clip(departamento_shp))\n",
    "    \n",
    "\n",
    "    Map.addLayer(s5p_metane_img.mean(), s5p_methane_viz, 'methane in ' + dpmnto)\n",
    "\"\"\""
   ]
  },
  {
   "cell_type": "code",
   "execution_count": 13,
   "id": "3ac3020d-9d28-47e7-b912-68d61034d5a2",
   "metadata": {},
   "outputs": [],
   "source": [
    "# Aquí se plotea usando un shapefile del mundo y filtrando solo colombia\n",
    "\n",
    "countries = ee.FeatureCollection('users/hmojica/data/countries')\n",
    "fronteras_maritimas = ee.FeatureCollection('projects/ee-jolejua/assets/EEZ_land_union_v3_202003')\n",
    "\n",
    "# Filtrar el SHP\n",
    "#colombia_shp = Colombia.filterMetadata('DPTO_CNMBR', 'equals', 'BOYACÁ')\n",
    "\n",
    "# para ver elcontenido del SHP\n",
    "#fronteras_maritimas.aggregate_array('UNION').getInfo() #UNION = Colombia\n",
    "\n",
    "colombia_maritimo_shp = fronteras_maritimas.filterMetadata('UNION', 'equals', 'Colombia')\n",
    "# depto_shp = Colombia.filterMetadata('DPTO_CNMBR', 'equals', 'BOYACÁ')\n",
    "\n"
   ]
  },
  {
   "cell_type": "code",
   "execution_count": 20,
   "id": "a8cbf3d6-8b7e-4dfb-8559-685777a8161f",
   "metadata": {},
   "outputs": [],
   "source": [
    "\n",
    "s5p_metane_dpto = s5p_metane.filterBounds(colombia_maritimo_shp)\n",
    "s5p_metane_img = s5p_metane_dpto.map(lambda image: image.clip(colombia_maritimo_shp))\n",
    "\n",
    "#Map.addLayer(s5p_metane_img.mean(), s5p_methane_viz, 'methane in Colombia ')\n",
    "\n",
    "#Map.centerObject(Colombia, 11)\n"
   ]
  },
  {
   "cell_type": "code",
   "execution_count": 29,
   "id": "2951509c-e02b-476d-8ff4-7a943a582c6e",
   "metadata": {},
   "outputs": [
    {
     "data": {
      "text/plain": [
       "'/home/bojack/Downloads/colombia/GEOTIFF'"
      ]
     },
     "execution_count": 29,
     "metadata": {},
     "output_type": "execute_result"
    }
   ],
   "source": [
    "import os\n",
    "out_dir = os.path.join(os.path.expanduser('~'), 'Downloads/colombia/GEOTIFF')\n",
    "out_dir"
   ]
  },
  {
   "cell_type": "code",
   "execution_count": 32,
   "id": "dc3d80d9-28f4-4f60-804a-f6818765c4a3",
   "metadata": {},
   "outputs": [],
   "source": [
    "filename = os.path.join(out_dir, 'methane.tif')"
   ]
  },
  {
   "cell_type": "code",
   "execution_count": 40,
   "id": "0a805277-a1fb-46d8-976b-467e69eada40",
   "metadata": {},
   "outputs": [],
   "source": [
    "imagen = s5p_metane_img.mean()"
   ]
  },
  {
   "cell_type": "code",
   "execution_count": 44,
   "id": "79e81d68-6108-45c0-b1c8-9e0f02fac9f0",
   "metadata": {},
   "outputs": [
    {
     "name": "stdout",
     "output_type": "stream",
     "text": [
      "Generating URL ...\n",
      "An error occurred while downloading.\n",
      "Total request size (152076447 bytes) must be less than or equal to 50331648 bytes.\n"
     ]
    }
   ],
   "source": [
    "geemap.ee_export_image(\n",
    "    imagen, filename=filename, scale=10000, region=fronteras_maritimas.geometry(), file_per_band=True\n",
    ")"
   ]
  },
  {
   "cell_type": "code",
   "execution_count": 28,
   "id": "a7093483-09da-49f5-bdbf-1092255bc640",
   "metadata": {},
   "outputs": [
    {
     "name": "stdout",
     "output_type": "stream",
     "text": [
      "The ee_object must be an ee.ImageCollection.\n"
     ]
    }
   ],
   "source": [
    "geemap.ee_export_image_collection(s5p_metane_img.mean(), out_dir=out_dir)"
   ]
  },
  {
   "cell_type": "code",
   "execution_count": null,
   "id": "474ef6f3-f6d2-4346-b119-84465fc8ec76",
   "metadata": {},
   "outputs": [],
   "source": [
    "geemap.ee_export_image_collection_to_drive(s5p_metane_img, folder='export', scale=10)"
   ]
  },
  {
   "cell_type": "code",
   "execution_count": 12,
   "id": "76e71ac9-3d44-4240-bb57-1a397fcc6a78",
   "metadata": {},
   "outputs": [],
   "source": [
    "Map.add_colorbar(\n",
    "    s5p_methane_viz,\n",
    "    label=\"Methane meditions (mol/mol)\",\n",
    "    layer_name=\"Methane colorbar\",\n",
    "    transparent_bg=True\n",
    ")\n"
   ]
  },
  {
   "cell_type": "code",
   "execution_count": 36,
   "id": "d1cc9b2c-f12f-4afd-832e-779cf526da35",
   "metadata": {},
   "outputs": [],
   "source": [
    "import os"
   ]
  },
  {
   "cell_type": "code",
   "execution_count": 39,
   "id": "0f08820d-1d8c-4085-a35b-0767c91dd6d1",
   "metadata": {},
   "outputs": [],
   "source": [
    "out_dir = os.path.join('/home/bojack/Downloads')\n",
    "html_file = os.path.join(out_dir, 'my_map.html')\n",
    "Map.to_html(filename=html_file, title='My Map', width='100%', height='880px')"
   ]
  },
  {
   "cell_type": "code",
   "execution_count": 40,
   "id": "2d5e344a-3ecc-4afe-9cee-f5ef2f3e28c7",
   "metadata": {},
   "outputs": [],
   "source": [
    "jpg_file = os.path.join(out_dir, 'my_map.jpg')\n",
    "Map.to_image(filename=jpg_file, monitor=1)"
   ]
  },
  {
   "cell_type": "code",
   "execution_count": null,
   "id": "c5d807a7-d9f3-4555-82de-439c2f453f0f",
   "metadata": {},
   "outputs": [],
   "source": []
  }
 ],
 "metadata": {
  "kernelspec": {
   "display_name": "Python 3 (ipykernel)",
   "language": "python",
   "name": "python3"
  },
  "language_info": {
   "codemirror_mode": {
    "name": "ipython",
    "version": 3
   },
   "file_extension": ".py",
   "mimetype": "text/x-python",
   "name": "python",
   "nbconvert_exporter": "python",
   "pygments_lexer": "ipython3",
   "version": "3.10.9"
  }
 },
 "nbformat": 4,
 "nbformat_minor": 5
}
