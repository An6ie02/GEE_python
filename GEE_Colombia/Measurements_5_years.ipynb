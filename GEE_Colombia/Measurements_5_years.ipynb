{
 "cells": [
  {
   "cell_type": "code",
   "execution_count": 7,
   "id": "5345e93f-6fd3-4315-a439-f0d0555136f1",
   "metadata": {},
   "outputs": [
    {
     "data": {
      "application/vnd.jupyter.widget-view+json": {
       "model_id": "90e369a6511b486fac228d96be25c9ee",
       "version_major": 2,
       "version_minor": 0
      },
      "text/plain": [
       "Map(center=[20, 0], controls=(WidgetControl(options=['position', 'transparent_bg'], widget=HBox(children=(Togg…"
      ]
     },
     "execution_count": 7,
     "metadata": {},
     "output_type": "execute_result"
    }
   ],
   "source": [
    "import ee\n",
    "import geemap\n",
    "import geopandas as gpd\n",
    "from ipyleaflet import GeoJSON\n",
    "from zipfile import ZipFile\n",
    "\n",
    "ee.Initialize()\n",
    "\n",
    "initDate = '2018-05-31'\n",
    "finalDate = '2022-12-31'\n",
    "s5p_layer = 'CH4_column_volume_mixing_ratio_dry_air_bias_corrected'\n",
    "s5p_methane_dataset = ee.ImageCollection(\"COPERNICUS/S5P/OFFL/L3_CH4\")\n",
    "s5p_metane = s5p_methane_dataset.select(s5p_layer).filterDate(initDate, finalDate)\n",
    "\n",
    "\n",
    "Map = geemap.Map()\n",
    "\n",
    "Colombia = ee.FeatureCollection('users/hmojica/data/departamentos')\n",
    "style = {'color': '000000', 'width': 2, 'lineType': 'solid', 'fillColor': '00000000'}\n",
    "Map.addLayer(Colombia.style(**style), {}, \"Departamentos\")\n",
    "\n",
    "\n",
    "\n",
    "departamentosNombres = Colombia.aggregate_array('DPTO_CNMBR').getInfo()\n",
    "\n",
    "\n",
    "s5p_methane_viz = {\n",
    "    'min': 1600,\n",
    "    'max': 2000,\n",
    "    'palette': ['black', 'blue', 'purple', 'cyan', 'green', 'yellow', 'red'],\n",
    "    'opacity': 1.0\n",
    "}\n",
    "\n",
    "Map\n"
   ]
  },
  {
   "cell_type": "code",
   "execution_count": 8,
   "id": "15aa0d33-e1ca-42a9-a461-83f24ec4e116",
   "metadata": {},
   "outputs": [
    {
     "data": {
      "text/plain": [
       "\"\\nfor dpmnto in departamentosNombres:\\n    departamento_shp = Colombia.filterMetadata('DPTO_CNMBR', 'equals', dpmnto)\\n    s5p_metane_dpto = s5p_metane.filterBounds(departamento_shp)\\n    s5p_metane_img = s5p_metane_dpto.map(lambda image: image.clip(departamento_shp))\\n    \\n\\n    Map.addLayer(s5p_metane_img.mean(), s5p_methane_viz, 'methane in ' + dpmnto)\\n\""
      ]
     },
     "execution_count": 8,
     "metadata": {},
     "output_type": "execute_result"
    }
   ],
   "source": [
    "# esto plotea la capa de metano departamento a departamento\n",
    "\"\"\"\n",
    "for dpmnto in departamentosNombres:\n",
    "    departamento_shp = Colombia.filterMetadata('DPTO_CNMBR', 'equals', dpmnto)\n",
    "    s5p_metane_dpto = s5p_metane.filterBounds(departamento_shp)\n",
    "    s5p_metane_img = s5p_metane_dpto.map(lambda image: image.clip(departamento_shp))\n",
    "    \n",
    "\n",
    "    Map.addLayer(s5p_metane_img.mean(), s5p_methane_viz, 'methane in ' + dpmnto)\n",
    "\"\"\""
   ]
  },
  {
   "cell_type": "code",
   "execution_count": 11,
   "id": "3ac3020d-9d28-47e7-b912-68d61034d5a2",
   "metadata": {},
   "outputs": [],
   "source": [
    "# Aquí se plotea usando un shapefile del mundo y filtrando solo colombia\n",
    "\n",
    "countries = ee.FeatureCollection('users/hmojica/data/countries')\n",
    "\n",
    "colombia_shp = countries.filterMetadata('COUNTRY', 'equals', 'Colombia')\n",
    "s5p_metane_dpto = s5p_metane.filterBounds(colombia_shp)\n",
    "s5p_metane_img = s5p_metane_dpto.map(lambda image: image.clip(colombia_shp))\n",
    "Map.addLayer(s5p_metane_img, s5p_methane_viz, 'methane in COlombia ')\n",
    "\n",
    "Map.centerObject(Colombia, 5)\n"
   ]
  },
  {
   "cell_type": "code",
   "execution_count": 12,
   "id": "76e71ac9-3d44-4240-bb57-1a397fcc6a78",
   "metadata": {},
   "outputs": [],
   "source": [
    "Map.add_colorbar(\n",
    "    s5p_methane_viz,\n",
    "    label=\"Methane meditions (mol/mol)\",\n",
    "    layer_name=\"Methane colorbar\",\n",
    "    transparent_bg=True\n",
    ")\n"
   ]
  },
  {
   "cell_type": "code",
   "execution_count": 36,
   "id": "d1cc9b2c-f12f-4afd-832e-779cf526da35",
   "metadata": {},
   "outputs": [],
   "source": [
    "import os"
   ]
  },
  {
   "cell_type": "code",
   "execution_count": 39,
   "id": "0f08820d-1d8c-4085-a35b-0767c91dd6d1",
   "metadata": {},
   "outputs": [],
   "source": [
    "out_dir = os.path.join('/home/bojack/Downloads')\n",
    "html_file = os.path.join(out_dir, 'my_map.html')\n",
    "Map.to_html(filename=html_file, title='My Map', width='100%', height='880px')"
   ]
  },
  {
   "cell_type": "code",
   "execution_count": 40,
   "id": "2d5e344a-3ecc-4afe-9cee-f5ef2f3e28c7",
   "metadata": {},
   "outputs": [],
   "source": [
    "jpg_file = os.path.join(out_dir, 'my_map.jpg')\n",
    "Map.to_image(filename=jpg_file, monitor=1)"
   ]
  },
  {
   "cell_type": "code",
   "execution_count": null,
   "id": "c5d807a7-d9f3-4555-82de-439c2f453f0f",
   "metadata": {},
   "outputs": [],
   "source": []
  }
 ],
 "metadata": {
  "kernelspec": {
   "display_name": "Python 3 (ipykernel)",
   "language": "python",
   "name": "python3"
  },
  "language_info": {
   "codemirror_mode": {
    "name": "ipython",
    "version": 3
   },
   "file_extension": ".py",
   "mimetype": "text/x-python",
   "name": "python",
   "nbconvert_exporter": "python",
   "pygments_lexer": "ipython3",
   "version": "3.10.9"
  }
 },
 "nbformat": 4,
 "nbformat_minor": 5
}
