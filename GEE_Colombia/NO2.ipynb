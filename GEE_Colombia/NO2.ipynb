{
 "cells": [
  {
   "cell_type": "markdown",
   "id": "46982415-20df-4fb0-8b74-9fb104916929",
   "metadata": {},
   "source": [
    "# Get data from Tropomi (S5P) satellite and data analisis\n",
    "\n",
    "In this Notebook we will develop a code for get an anaice data from S5p also we will \n",
    "learn abot print thos data at gmap usin lbraries like Geemap, geopandas and Earth engine api.\n",
    "\n",
    "sugegsted links: \n",
    "- https://courses.spatialthoughts.com/end-to-end-gee.html#earth-engine-objects\n"
   ]
  },
  {
   "cell_type": "markdown",
   "id": "76a96b86-3209-4ebf-aedb-2fdee48d15f6",
   "metadata": {},
   "source": [
    "First we eil import and initializate the GEE api"
   ]
  },
  {
   "cell_type": "code",
   "execution_count": 103,
   "id": "4a84efeb-66bf-403e-9eb5-822d850f7a9b",
   "metadata": {
    "tags": []
   },
   "outputs": [],
   "source": [
    "import os\n",
    "import ee\n",
    "import geemap\n",
    "import geopandas as gdp\n",
    "from ipyleaflet import GeoJSON\n",
    "from zipfile import ZipFile\n",
    "from geeS2downloader import GEES2Downloader\n",
    "#ee.Authenticate()\n",
    "ee.Initialize()\n"
   ]
  },
  {
   "cell_type": "markdown",
   "id": "7dcbd7e9-430f-434d-98c0-6d4923783a75",
   "metadata": {},
   "source": [
    "Now we will create a ImageCollection from S5P sensor, you could choose beetwen the following \n",
    "layers:\n"
   ]
  },
  {
   "cell_type": "code",
   "execution_count": 2,
   "id": "7ca4fbae-ebcc-43b1-87c5-766bc1712118",
   "metadata": {},
   "outputs": [],
   "source": [
    "# Aviable layers:\n",
    "# Se define la region de interes\n",
    "# xMin = -65.654297\n",
    "# yMin = -4.954507\n",
    "# xMax = -82.573242\n",
    "# yMax = 13.330474\n",
    "# region = ee.Geometry.Rectangle(yMin, xMin,yMax, xMax)\n",
    "# aoi1= ee.Geometry.Point([-74, 4.6])\n",
    "\n",
    "methane = \"COPERNICUS/S5P/OFFL/L3_CH4\"\n",
    "Municipios= ee.FeatureCollection(\"FAO/GAUL_SIMPLIFIED_500m/2015/level2\")#Datos de fronteras a nivel municipal\n",
    "Dep = ee.FeatureCollection(\"FAO/GAUL_SIMPLIFIED_500m/2015/level1\")#Filto de los anteriores datos para Colombia\n",
    "Dep_col=Dep.filter(ee.Filter.eq('ADM0_NAME', 'Colombia'))#Datos de fronteras a nivel departamental\n",
    "Mun_col=Municipios.filter(ee.Filter.eq('ADM0_NAME', 'Colombia'))#Filtro de los anteriores datos para Colombia\n",
    "Fronteras=ee.FeatureCollection(\"FAO/GAUL_SIMPLIFIED_500m/2015/level0\")#Datos de fronteras nacionales\n",
    "#Front_col=Fronteras.filter(ee.Filter.eq('ADM0_NAME', 'Colombia'))#Filtro de los anteriores datos para Colombia\n",
    "fronteras_maritimas = ee.FeatureCollection('projects/ee-jolejua/assets/EEZ_land_union_v3_202003')\n",
    "Front_col=fronteras_maritimas.filter(ee.Filter.eq('UNION', 'Colombia'));\n",
    "image1 = ee.ImageCollection(methane).select(\"CH4_column_volume_mixing_ratio_dry_air_bias_corrected\").filterDate('2018-05-01', '2022-12-01')\n",
    "imageC=ee.ImageCollection(\"COPERNICUS/S5P/OFFL/L3_CLOUD\").select('cloud_fraction').filterDate('2022-09-01', '2022-12-01')\n",
    "\n",
    "imageNO2 = ee.ImageCollection('COPERNICUS/S5P/OFFL/L3_NO2').select('tropospheric_NO2_column_number_density').filterDate('2022-09-01', '2022-12-01');\n",
    "\n",
    "imageSO2=ee.ImageCollection(\"COPERNICUS/S5P/OFFL/L3_SO2\").select('SO2_column_number_density').filterDate('2022-09-01', '2022-12-01');\n",
    "\n",
    "\n",
    "# Map.setCenter(65.27, 24.11, 4);\n",
    "#img_col= image1.first()\n",
    "img1 = image1.mean()\n",
    "img_col=img1.clip(Front_col)\n",
    "imageC_col=imageC.mean()\n",
    "img_col2=imageC_col.clip(Front_col)\n",
    "#img_col = image1.first()\n",
    "\n",
    "img_col_SO2=imageSO2.mean().clip(Front_col)\n",
    "band_viz = {\n",
    "    'min': 1600,\n",
    "    'max': 2000,\n",
    "    'palette': ['black', 'blue', 'purple', 'cyan', 'green', 'yellow', 'red']\n",
    "}\n",
    "\n",
    "    \n",
    "Map = geemap.Map(center=(4.6,-74),zoom=9)\n",
    "#ap.setCenter(-74.297333, 4.570868,5)\n",
    "#Map = geemap.Map(center=(-23, -48.4), zoom=9)\n",
    "\n",
    "#Map.setCenter(-74.297333, 4.570868,5)\n",
    "#imageNO2.getInfo()"
   ]
  },
  {
   "cell_type": "code",
   "execution_count": 55,
   "id": "75f75bbf",
   "metadata": {},
   "outputs": [],
   "source": [
    "col = ee.ImageCollection.fromImages([img1])\n",
    "#col.getRegion()\n",
    "#Map\n",
    "#img_clus=img_col.cluster(ee.Clusterer.wekaCascadeKMeans(4,10))\n",
    "# props = geemap.image_props(img_col)\n",
    "# props.get('system:band_names').getInfo()\n",
    "training=img_col.sample(region=Front_col.geometry(),scale=20000,factor=0.7,geometries=True)\n",
    "#Map.addLayer(training, {}, 'training', False)"
   ]
  },
  {
   "cell_type": "code",
   "execution_count": 59,
   "id": "2779b800",
   "metadata": {},
   "outputs": [
    {
     "data": {
      "application/vnd.jupyter.widget-view+json": {
       "model_id": "665f7ef27e6f41959bb01a53520c403f",
       "version_major": 2,
       "version_minor": 0
      },
      "text/plain": [
       "Map(bottom=16149.0, center=[5.867403444598711, -73.94919034917582], controls=(WidgetControl(options=['position…"
      ]
     },
     "metadata": {},
     "output_type": "display_data"
    }
   ],
   "source": [
    "#Map.addLayer(img_clus, {}, 'Zonas',True,0.4)\n",
    "n_clusters=3\n",
    "clusterer = ee.Clusterer.wekaKMeans(n_clusters).train(training)\n",
    "result = img_col.cluster(clusterer)\n",
    "\n",
    "# # Display the clusters with random colors.\n",
    "Map.addLayer(result.randomVisualizer(), {}, 'clusters')\n",
    "Map"
   ]
  },
  {
   "cell_type": "code",
   "execution_count": 53,
   "id": "bbd9400a",
   "metadata": {},
   "outputs": [
    {
     "data": {
      "application/vnd.jupyter.widget-view+json": {
       "model_id": "b2eb2c7b01574ed18499db121eacf237",
       "version_major": 2,
       "version_minor": 0
      },
      "text/plain": [
       "Map(center=[4.6, -74], controls=(WidgetControl(options=['position', 'transparent_bg'], widget=HBox(children=(T…"
      ]
     },
     "metadata": {},
     "output_type": "display_data"
    }
   ],
   "source": [
    "\n",
    "Dep_col_s = Dep_col.style(fillColor='#FFFFFF80',\n",
    "  width= 1.2)\n",
    "\n",
    "Front_col_s = Front_col.style(  fillColor='b5ffb4',\n",
    "  width=2);\n",
    "\n",
    "#Map.addLayer(Front_col_s, {}, 'Colombia',True,0.5)\n",
    "\n",
    "#Map.addLayer(img_col, band_viz, 'methane',True,1)\n",
    "#Map.addLayer(img_col2, {'min': 0,'max': 0.75,\n",
    "#    'palette': ['black', 'blue', 'purple', 'cyan', 'green', 'yellow', 'red']\n",
    "#}, 'clouds',True,0.7)\n",
    "#Map.addLayer(imageNO2.mean().clip(Front_col), {\n",
    " # 'min': 0,\n",
    "  #'max': 0.00005,\n",
    "  #'palette': ['black', 'blue', 'purple', 'cyan', 'green', 'yellow', 'red']}, 'S5P N02',True,0.7);\n",
    "\n",
    "\n",
    "Map.addLayer(Dep_col_s, {}, 'Departamentos',True,0.4)\n",
    "Map.addLayer(Front_col_s, {}, 'Colombia',True,0.4)\n",
    "#Map.addLayer(dataset, {}, 'Second Level Administrative Units',True,0.2)\n",
    "Map.addLayer(img_col_SO2, {\n",
    "  'min': 0,\n",
    "  'max': 0.0009,\n",
    "  'palette': ['black', 'blue', 'purple', 'cyan', 'green', 'yellow', 'red']}, 'S5P S02',True,0.7);\n",
    "Map"
   ]
  },
  {
   "cell_type": "code",
   "execution_count": 54,
   "id": "901e7aa1",
   "metadata": {},
   "outputs": [
    {
     "data": {
      "application/vnd.jupyter.widget-view+json": {
       "model_id": "dc381b24c2f04aec90a5fbb9c334daca",
       "version_major": 2,
       "version_minor": 0
      },
      "text/plain": [
       "Map(center=[4.6, -74], controls=(WidgetControl(options=['position', 'transparent_bg'], widget=HBox(children=(T…"
      ]
     },
     "metadata": {},
     "output_type": "display_data"
    }
   ],
   "source": [
    "Map1 = geemap.Map(center=(4.6,-74),zoom=9)\n",
    "Map1.addLayer(imageNO2.mean().clip(Front_col), {\n",
    "  'min': 0,\n",
    "  'max': 0.00005,\n",
    "  'palette': ['black', 'blue', 'purple', 'cyan', 'green', 'yellow', 'red']}, 'S5P N02',True,0.7);\n",
    "#Map1.addLayer(Dep_col_s, {}, 'Departamentos',True,0.4)\n",
    "Map1"
   ]
  },
  {
   "cell_type": "code",
   "execution_count": 55,
   "id": "e1b4f825",
   "metadata": {},
   "outputs": [
    {
     "data": {
      "application/vnd.jupyter.widget-view+json": {
       "model_id": "f61ebf1e24aa4cf8ad8d481820dbf721",
       "version_major": 2,
       "version_minor": 0
      },
      "text/plain": [
       "Map(center=[4.6, -74], controls=(WidgetControl(options=['position', 'transparent_bg'], widget=HBox(children=(T…"
      ]
     },
     "metadata": {},
     "output_type": "display_data"
    }
   ],
   "source": [
    "Map2 = geemap.Map(center=(4.6,-74),zoom=5)\n",
    "#Front_Yem=Fronteras.filter(ee.Filter.eq('ADM0_NAME', 'Yemen'))\n",
    "img_y=img1.clip(Front_col)\n",
    "Map2.addLayer(img_y, band_viz, 'methane',True,0.7);\n",
    "Map2.addLayer(Front_col, {}, 'Frontera',True,0.1)\n",
    "#Map2.addLayer(Dep_col_s, {}, 'Departamentos',True,0.4)\n",
    "Map2"
   ]
  },
  {
   "cell_type": "code",
   "execution_count": 34,
   "id": "68ea98dc",
   "metadata": {},
   "outputs": [
    {
     "data": {
      "application/vnd.jupyter.widget-view+json": {
       "model_id": "032d570aed02495480ccfaf0da25bd42",
       "version_major": 2,
       "version_minor": 0
      },
      "text/plain": [
       "Map(center=[4.6, -74], controls=(WidgetControl(options=['position', 'transparent_bg'], widget=HBox(children=(T…"
      ]
     },
     "metadata": {},
     "output_type": "display_data"
    }
   ],
   "source": [
    "Map3 = geemap.Map(center=(4.6,-74),zoom=5)\n",
    "Map3.addLayer(imageC, {'min': 0,'max': 0.5,\n",
    "    'palette': ['black', 'blue', 'purple', 'cyan', 'green', 'yellow', 'red']\n",
    "}, 'clouds',True,0.7)\n",
    "Map3.addLayer(Dep_col_s, {}, 'Departamentos',True,0.4)\n",
    "Map3"
   ]
  },
  {
   "cell_type": "code",
   "execution_count": 50,
   "id": "a933b8cb",
   "metadata": {},
   "outputs": [
    {
     "ename": "NameError",
     "evalue": "name 'img_d' is not defined",
     "output_type": "error",
     "traceback": [
      "\u001b[0;31m---------------------------------------------------------------------------\u001b[0m",
      "\u001b[0;31mNameError\u001b[0m                                 Traceback (most recent call last)",
      "\u001b[0;32m/tmp/ipykernel_22308/1840682783.py\u001b[0m in \u001b[0;36m<module>\u001b[0;34m\u001b[0m\n\u001b[1;32m      3\u001b[0m \u001b[0;34m\u001b[0m\u001b[0m\n\u001b[1;32m      4\u001b[0m \u001b[0;31m# call download method passing image and band (1 band at a time on this version)\u001b[0m\u001b[0;34m\u001b[0m\u001b[0;34m\u001b[0m\u001b[0m\n\u001b[0;32m----> 5\u001b[0;31m \u001b[0mdownloader\u001b[0m\u001b[0;34m.\u001b[0m\u001b[0mdownload\u001b[0m\u001b[0;34m(\u001b[0m\u001b[0mimg\u001b[0m\u001b[0;34m=\u001b[0m\u001b[0mimg_d\u001b[0m\u001b[0;34m,\u001b[0m \u001b[0mband\u001b[0m\u001b[0;34m=\u001b[0m\u001b[0;34m'CH4_column_volume_mixing_ratio_dry_air_bias_corrected'\u001b[0m\u001b[0;34m)\u001b[0m\u001b[0;34m\u001b[0m\u001b[0;34m\u001b[0m\u001b[0m\n\u001b[0m",
      "\u001b[0;31mNameError\u001b[0m: name 'img_d' is not defined"
     ]
    }
   ],
   "source": [
    "#image1.getRegion(Front_col,scale=1).getInfo()\n",
    "downloader = GEES2Downloader()\n",
    "\n",
    "# call download method passing image and band (1 band at a time on this version)\n",
    "downloader.download(img=img_d, band='CH4_column_volume_mixing_ratio_dry_air_bias_corrected')"
   ]
  },
  {
   "cell_type": "code",
   "execution_count": 8,
   "id": "7a423bf4",
   "metadata": {},
   "outputs": [
    {
     "data": {
      "application/vnd.jupyter.widget-view+json": {
       "model_id": "173c8755a4c646d88c2a2183a0a5ce16",
       "version_major": 2,
       "version_minor": 0
      },
      "text/plain": [
       "Map(center=[-23, -48.4], controls=(WidgetControl(options=['position', 'transparent_bg'], widget=HBox(children=…"
      ]
     },
     "metadata": {},
     "output_type": "display_data"
    }
   ],
   "source": [
    "aoi = ee.Geometry.Point([-48.4, -23])\n",
    "\n",
    "clouds = ee.ImageCollection('COPERNICUS/S2_CLOUD_PROBABILITY').filterDate('2019-11-25', '2019-11-28').filterBounds(aoi)\n",
    "\n",
    "#img = s2.first()\n",
    "cld = clouds.first()\n",
    "Map = geemap.Map(center=(-23, -48.4), zoom=9)\n",
    "Map.addLayer(cld, {'min': 0, 'max': 100, 'palette': ['purple', 'yellow']}, 'Cloud Probability', True, 1)\n",
    "Map"
   ]
  },
  {
   "cell_type": "code",
   "execution_count": 2,
   "id": "6ec490c4",
   "metadata": {},
   "outputs": [],
   "source": [
    "\n",
    "\n",
    "# styleParams = {\n",
    "#   fillColor: 'b5ffb4',\n",
    "#   color: '00909F',\n",
    "#   width: 1.0,\n",
    "# };\n",
    "#cld.getInfo()"
   ]
  },
  {
   "cell_type": "code",
   "execution_count": null,
   "id": "ba22b6fa",
   "metadata": {},
   "outputs": [],
   "source": []
  },
  {
   "cell_type": "code",
   "execution_count": 142,
   "id": "0ab0f927",
   "metadata": {},
   "outputs": [
    {
     "data": {
      "application/vnd.jupyter.widget-view+json": {
       "model_id": "6d77bb93146543e39e15db6cff0abbd6",
       "version_major": 2,
       "version_minor": 0
      },
      "text/plain": [
       "Map(bottom=1705.0, center=[49.1, 7.82], controls=(WidgetControl(options=['position', 'transparent_bg'], widget…"
      ]
     },
     "metadata": {},
     "output_type": "display_data"
    }
   ],
   "source": [
    "# dataset = ee.FeatureCollection(\"FAO/GAUL_SIMPLIFIED_500m/2015/level0\");\n",
    "\n",
    "# Map.setCenter(7.82, 49.1, 4);\n",
    "\n",
    "# styleParams = {\n",
    "#   fillColor='b5ffb4',\n",
    "#   color='00909F',\n",
    "#   width=1.0,\n",
    "# }\n",
    "\n",
    "# dataset = dataset.style(  fillColor='b5ffb4',\n",
    "#   color='00909F',\n",
    "#   width=2,);\n",
    "\n",
    "Map.addLayer(dataset, {}, 'Country Boundaries',True,0.05);\n",
    "Map"
   ]
  },
  {
   "cell_type": "code",
   "execution_count": 104,
   "id": "15539344",
   "metadata": {},
   "outputs": [
    {
     "data": {
      "application/vnd.jupyter.widget-view+json": {
       "model_id": "f3b82d5f0bd64950b4ad2e7eb5874ee7",
       "version_major": 2,
       "version_minor": 0
      },
      "text/plain": [
       "Map(bottom=8249.0, center=[5.331644153439766, -74.61914062500001], controls=(WidgetControl(options=['position'…"
      ]
     },
     "metadata": {},
     "output_type": "display_data"
    }
   ],
   "source": []
  },
  {
   "cell_type": "code",
   "execution_count": 40,
   "id": "9179c268-1461-45fb-85d6-255f86f989ce",
   "metadata": {},
   "outputs": [
    {
     "ename": "EEException",
     "evalue": "Image.reduceToVectors: Need 1+1 bands for Reducer.mean, image has 1.",
     "output_type": "error",
     "traceback": [
      "\u001b[0;31m---------------------------------------------------------------------------\u001b[0m",
      "\u001b[0;31mHttpError\u001b[0m                                 Traceback (most recent call last)",
      "\u001b[0;32m~/anaconda3/lib/python3.9/site-packages/ee/data.py\u001b[0m in \u001b[0;36m_execute_cloud_call\u001b[0;34m(call, num_retries)\u001b[0m\n\u001b[1;32m    328\u001b[0m   \u001b[0;32mtry\u001b[0m\u001b[0;34m:\u001b[0m\u001b[0;34m\u001b[0m\u001b[0;34m\u001b[0m\u001b[0m\n\u001b[0;32m--> 329\u001b[0;31m     \u001b[0;32mreturn\u001b[0m \u001b[0mcall\u001b[0m\u001b[0;34m.\u001b[0m\u001b[0mexecute\u001b[0m\u001b[0;34m(\u001b[0m\u001b[0mnum_retries\u001b[0m\u001b[0;34m=\u001b[0m\u001b[0mnum_retries\u001b[0m\u001b[0;34m)\u001b[0m\u001b[0;34m\u001b[0m\u001b[0;34m\u001b[0m\u001b[0m\n\u001b[0m\u001b[1;32m    330\u001b[0m   \u001b[0;32mexcept\u001b[0m \u001b[0mgoogleapiclient\u001b[0m\u001b[0;34m.\u001b[0m\u001b[0merrors\u001b[0m\u001b[0;34m.\u001b[0m\u001b[0mHttpError\u001b[0m \u001b[0;32mas\u001b[0m \u001b[0me\u001b[0m\u001b[0;34m:\u001b[0m\u001b[0;34m\u001b[0m\u001b[0;34m\u001b[0m\u001b[0m\n",
      "\u001b[0;32m~/anaconda3/lib/python3.9/site-packages/googleapiclient/_helpers.py\u001b[0m in \u001b[0;36mpositional_wrapper\u001b[0;34m(*args, **kwargs)\u001b[0m\n\u001b[1;32m    129\u001b[0m                     \u001b[0mlogger\u001b[0m\u001b[0;34m.\u001b[0m\u001b[0mwarning\u001b[0m\u001b[0;34m(\u001b[0m\u001b[0mmessage\u001b[0m\u001b[0;34m)\u001b[0m\u001b[0;34m\u001b[0m\u001b[0;34m\u001b[0m\u001b[0m\n\u001b[0;32m--> 130\u001b[0;31m             \u001b[0;32mreturn\u001b[0m \u001b[0mwrapped\u001b[0m\u001b[0;34m(\u001b[0m\u001b[0;34m*\u001b[0m\u001b[0margs\u001b[0m\u001b[0;34m,\u001b[0m \u001b[0;34m**\u001b[0m\u001b[0mkwargs\u001b[0m\u001b[0;34m)\u001b[0m\u001b[0;34m\u001b[0m\u001b[0;34m\u001b[0m\u001b[0m\n\u001b[0m\u001b[1;32m    131\u001b[0m \u001b[0;34m\u001b[0m\u001b[0m\n",
      "\u001b[0;32m~/anaconda3/lib/python3.9/site-packages/googleapiclient/http.py\u001b[0m in \u001b[0;36mexecute\u001b[0;34m(self, http, num_retries)\u001b[0m\n\u001b[1;32m    937\u001b[0m         \u001b[0;32mif\u001b[0m \u001b[0mresp\u001b[0m\u001b[0;34m.\u001b[0m\u001b[0mstatus\u001b[0m \u001b[0;34m>=\u001b[0m \u001b[0;36m300\u001b[0m\u001b[0;34m:\u001b[0m\u001b[0;34m\u001b[0m\u001b[0;34m\u001b[0m\u001b[0m\n\u001b[0;32m--> 938\u001b[0;31m             \u001b[0;32mraise\u001b[0m \u001b[0mHttpError\u001b[0m\u001b[0;34m(\u001b[0m\u001b[0mresp\u001b[0m\u001b[0;34m,\u001b[0m \u001b[0mcontent\u001b[0m\u001b[0;34m,\u001b[0m \u001b[0muri\u001b[0m\u001b[0;34m=\u001b[0m\u001b[0mself\u001b[0m\u001b[0;34m.\u001b[0m\u001b[0muri\u001b[0m\u001b[0;34m)\u001b[0m\u001b[0;34m\u001b[0m\u001b[0;34m\u001b[0m\u001b[0m\n\u001b[0m\u001b[1;32m    939\u001b[0m         \u001b[0;32mreturn\u001b[0m \u001b[0mself\u001b[0m\u001b[0;34m.\u001b[0m\u001b[0mpostproc\u001b[0m\u001b[0;34m(\u001b[0m\u001b[0mresp\u001b[0m\u001b[0;34m,\u001b[0m \u001b[0mcontent\u001b[0m\u001b[0;34m)\u001b[0m\u001b[0;34m\u001b[0m\u001b[0;34m\u001b[0m\u001b[0m\n",
      "\u001b[0;31mHttpError\u001b[0m: <HttpError 400 when requesting https://earthengine.googleapis.com/v1alpha/projects/earthengine-legacy/value:compute?prettyPrint=false&alt=json returned \"Image.reduceToVectors: Need 1+1 bands for Reducer.mean, image has 1.\". Details: \"Image.reduceToVectors: Need 1+1 bands for Reducer.mean, image has 1.\">",
      "\nDuring handling of the above exception, another exception occurred:\n",
      "\u001b[0;31mEEException\u001b[0m                               Traceback (most recent call last)",
      "\u001b[0;32m/tmp/ipykernel_22308/2983000572.py\u001b[0m in \u001b[0;36m<module>\u001b[0;34m\u001b[0m\n\u001b[1;32m      1\u001b[0m \u001b[0;31m#extrema = img_col.reduce()\u001b[0m\u001b[0;34m\u001b[0m\u001b[0;34m\u001b[0m\u001b[0m\n\u001b[1;32m      2\u001b[0m \u001b[0mplane_data\u001b[0m\u001b[0;34m=\u001b[0m\u001b[0mimg_col\u001b[0m\u001b[0;34m.\u001b[0m\u001b[0mreduceToVectors\u001b[0m\u001b[0;34m(\u001b[0m\u001b[0mee\u001b[0m\u001b[0;34m.\u001b[0m\u001b[0mReducer\u001b[0m\u001b[0;34m.\u001b[0m\u001b[0mmean\u001b[0m\u001b[0;34m(\u001b[0m\u001b[0;34m)\u001b[0m\u001b[0;34m,\u001b[0m\u001b[0mFront_col\u001b[0m\u001b[0;34m.\u001b[0m\u001b[0mgeometry\u001b[0m\u001b[0;34m(\u001b[0m\u001b[0;34m)\u001b[0m\u001b[0;34m)\u001b[0m\u001b[0;34m\u001b[0m\u001b[0;34m\u001b[0m\u001b[0m\n\u001b[0;32m----> 3\u001b[0;31m \u001b[0mplane_data\u001b[0m\u001b[0;34m.\u001b[0m\u001b[0mgetInfo\u001b[0m\u001b[0;34m(\u001b[0m\u001b[0;34m)\u001b[0m\u001b[0;34m\u001b[0m\u001b[0;34m\u001b[0m\u001b[0m\n\u001b[0m\u001b[1;32m      4\u001b[0m \u001b[0mdata\u001b[0m\u001b[0;34m=\u001b[0m\u001b[0mee\u001b[0m\u001b[0;34m.\u001b[0m\u001b[0mbatch\u001b[0m\u001b[0;34m.\u001b[0m\u001b[0mExport\u001b[0m\u001b[0;34m.\u001b[0m\u001b[0mtable\u001b[0m\u001b[0;34m.\u001b[0m\u001b[0mtoDrive\u001b[0m\u001b[0;34m(\u001b[0m\u001b[0mplane_data\u001b[0m\u001b[0;34m,\u001b[0m\u001b[0mfileFormat\u001b[0m\u001b[0;34m=\u001b[0m\u001b[0;34m'GeoJSON'\u001b[0m\u001b[0;34m)\u001b[0m\u001b[0;34m\u001b[0m\u001b[0;34m\u001b[0m\u001b[0m\n\u001b[1;32m      5\u001b[0m \u001b[0;31m# data?\u001b[0m\u001b[0;34m\u001b[0m\u001b[0;34m\u001b[0m\u001b[0m\n",
      "\u001b[0;32m~/anaconda3/lib/python3.9/site-packages/ee/collection.py\u001b[0m in \u001b[0;36mgetInfo\u001b[0;34m(self)\u001b[0m\n\u001b[1;32m    131\u001b[0m            \u001b[0mproperties\u001b[0m\u001b[0;34m.\u001b[0m\u001b[0;34m\u001b[0m\u001b[0;34m\u001b[0m\u001b[0m\n\u001b[1;32m    132\u001b[0m     \"\"\"\n\u001b[0;32m--> 133\u001b[0;31m     \u001b[0;32mreturn\u001b[0m \u001b[0msuper\u001b[0m\u001b[0;34m(\u001b[0m\u001b[0mCollection\u001b[0m\u001b[0;34m,\u001b[0m \u001b[0mself\u001b[0m\u001b[0;34m)\u001b[0m\u001b[0;34m.\u001b[0m\u001b[0mgetInfo\u001b[0m\u001b[0;34m(\u001b[0m\u001b[0;34m)\u001b[0m\u001b[0;34m\u001b[0m\u001b[0;34m\u001b[0m\u001b[0m\n\u001b[0m\u001b[1;32m    134\u001b[0m \u001b[0;34m\u001b[0m\u001b[0m\n\u001b[1;32m    135\u001b[0m   \u001b[0;32mdef\u001b[0m \u001b[0mlimit\u001b[0m\u001b[0;34m(\u001b[0m\u001b[0mself\u001b[0m\u001b[0;34m,\u001b[0m \u001b[0mmaximum\u001b[0m\u001b[0;34m,\u001b[0m \u001b[0mopt_property\u001b[0m\u001b[0;34m=\u001b[0m\u001b[0;32mNone\u001b[0m\u001b[0;34m,\u001b[0m \u001b[0mopt_ascending\u001b[0m\u001b[0;34m=\u001b[0m\u001b[0;32mNone\u001b[0m\u001b[0;34m)\u001b[0m\u001b[0;34m:\u001b[0m\u001b[0;34m\u001b[0m\u001b[0;34m\u001b[0m\u001b[0m\n",
      "\u001b[0;32m~/anaconda3/lib/python3.9/site-packages/ee/computedobject.py\u001b[0m in \u001b[0;36mgetInfo\u001b[0;34m(self)\u001b[0m\n\u001b[1;32m     94\u001b[0m       \u001b[0mThe\u001b[0m \u001b[0mobject\u001b[0m \u001b[0mcan\u001b[0m \u001b[0mevaluate\u001b[0m \u001b[0mto\u001b[0m \u001b[0manything\u001b[0m\u001b[0;34m.\u001b[0m\u001b[0;34m\u001b[0m\u001b[0;34m\u001b[0m\u001b[0m\n\u001b[1;32m     95\u001b[0m     \"\"\"\n\u001b[0;32m---> 96\u001b[0;31m     \u001b[0;32mreturn\u001b[0m \u001b[0mdata\u001b[0m\u001b[0;34m.\u001b[0m\u001b[0mcomputeValue\u001b[0m\u001b[0;34m(\u001b[0m\u001b[0mself\u001b[0m\u001b[0;34m)\u001b[0m\u001b[0;34m\u001b[0m\u001b[0;34m\u001b[0m\u001b[0m\n\u001b[0m\u001b[1;32m     97\u001b[0m \u001b[0;34m\u001b[0m\u001b[0m\n\u001b[1;32m     98\u001b[0m   \u001b[0;32mdef\u001b[0m \u001b[0mencode\u001b[0m\u001b[0;34m(\u001b[0m\u001b[0mself\u001b[0m\u001b[0;34m,\u001b[0m \u001b[0mencoder\u001b[0m\u001b[0;34m)\u001b[0m\u001b[0;34m:\u001b[0m\u001b[0;34m\u001b[0m\u001b[0;34m\u001b[0m\u001b[0m\n",
      "\u001b[0;32m~/anaconda3/lib/python3.9/site-packages/ee/data.py\u001b[0m in \u001b[0;36mcomputeValue\u001b[0;34m(obj)\u001b[0m\n\u001b[1;32m    784\u001b[0m   \u001b[0m_maybe_populate_workload_tag\u001b[0m\u001b[0;34m(\u001b[0m\u001b[0mbody\u001b[0m\u001b[0;34m)\u001b[0m\u001b[0;34m\u001b[0m\u001b[0;34m\u001b[0m\u001b[0m\n\u001b[1;32m    785\u001b[0m \u001b[0;34m\u001b[0m\u001b[0m\n\u001b[0;32m--> 786\u001b[0;31m   return _execute_cloud_call(\n\u001b[0m\u001b[1;32m    787\u001b[0m       _get_cloud_api_resource().projects().value().compute(\n\u001b[1;32m    788\u001b[0m           \u001b[0mbody\u001b[0m\u001b[0;34m=\u001b[0m\u001b[0mbody\u001b[0m\u001b[0;34m,\u001b[0m\u001b[0;34m\u001b[0m\u001b[0;34m\u001b[0m\u001b[0m\n",
      "\u001b[0;32m~/anaconda3/lib/python3.9/site-packages/ee/data.py\u001b[0m in \u001b[0;36m_execute_cloud_call\u001b[0;34m(call, num_retries)\u001b[0m\n\u001b[1;32m    329\u001b[0m     \u001b[0;32mreturn\u001b[0m \u001b[0mcall\u001b[0m\u001b[0;34m.\u001b[0m\u001b[0mexecute\u001b[0m\u001b[0;34m(\u001b[0m\u001b[0mnum_retries\u001b[0m\u001b[0;34m=\u001b[0m\u001b[0mnum_retries\u001b[0m\u001b[0;34m)\u001b[0m\u001b[0;34m\u001b[0m\u001b[0;34m\u001b[0m\u001b[0m\n\u001b[1;32m    330\u001b[0m   \u001b[0;32mexcept\u001b[0m \u001b[0mgoogleapiclient\u001b[0m\u001b[0;34m.\u001b[0m\u001b[0merrors\u001b[0m\u001b[0;34m.\u001b[0m\u001b[0mHttpError\u001b[0m \u001b[0;32mas\u001b[0m \u001b[0me\u001b[0m\u001b[0;34m:\u001b[0m\u001b[0;34m\u001b[0m\u001b[0;34m\u001b[0m\u001b[0m\n\u001b[0;32m--> 331\u001b[0;31m     \u001b[0;32mraise\u001b[0m \u001b[0m_translate_cloud_exception\u001b[0m\u001b[0;34m(\u001b[0m\u001b[0me\u001b[0m\u001b[0;34m)\u001b[0m\u001b[0;34m\u001b[0m\u001b[0;34m\u001b[0m\u001b[0m\n\u001b[0m\u001b[1;32m    332\u001b[0m \u001b[0;34m\u001b[0m\u001b[0m\n\u001b[1;32m    333\u001b[0m \u001b[0;34m\u001b[0m\u001b[0m\n",
      "\u001b[0;31mEEException\u001b[0m: Image.reduceToVectors: Need 1+1 bands for Reducer.mean, image has 1."
     ]
    }
   ],
   "source": [
    "#extrema = img_col.reduce()\n",
    "plane_data=img_col.reduceToVectors(ee.Reducer.mean(),Front_col.geometry())\n",
    "plane_data.getInfo()\n",
    "data=ee.batch.Export.table.toDrive(plane_data,fileFormat='GeoJSON')\n",
    "# data?"
   ]
  },
  {
   "cell_type": "code",
   "execution_count": null,
   "id": "632db18e",
   "metadata": {},
   "outputs": [],
   "source": []
  },
  {
   "cell_type": "code",
   "execution_count": 225,
   "id": "2d2c510f-fe1d-4f3e-b146-88ffc9cb0522",
   "metadata": {},
   "outputs": [],
   "source": [
    "datai=image.toArray()\n",
    "plane_data=datai.reduceToVectors()\n",
    "#print(plane_data.getArray('name'))"
   ]
  },
  {
   "cell_type": "markdown",
   "id": "737df3d2-a693-4084-b38a-cecb7bf5b93b",
   "metadata": {},
   "source": [
    "import a shapefile and create his layer:\n",
    "https://geemap.org/notebooks/65_vector_styling/#use-add_styled_vector"
   ]
  },
  {
   "cell_type": "code",
   "execution_count": 19,
   "id": "3e44275c-f1a1-4223-ad7b-0dadf3df793f",
   "metadata": {},
   "outputs": [],
   "source": [
    "departamentos = ee.FeatureCollection('users/hmojica/data/departamentos')\n",
    "style = {'color': '000000', 'width': 2, 'lineType': 'solid', 'fillColor': '00000000'}\n",
    "Map.addLayer(departamentos.style(**style), {}, \"Departamentos\")\n",
    "\n"
   ]
  },
  {
   "cell_type": "markdown",
   "id": "357cd72a-5097-4f30-b8e2-159e02a1866e",
   "metadata": {},
   "source": [
    "#### ee.ImageCollection.mean\n",
    "Reduces an image collection by calculating the mean of all values at each pixel across the stack of all matching bands. Bands are matched by name."
   ]
  },
  {
   "cell_type": "code",
   "execution_count": 9,
   "id": "35ac2954-c000-42f4-8978-b57e210a255b",
   "metadata": {},
   "outputs": [],
   "source": [
    "band_viz = {\n",
    "    'min': 1750,\n",
    "    'max': 1900,\n",
    "    'palette': ['black', 'blue', 'purple', 'cyan', 'green', 'yellow', 'red']\n",
    "}\n",
    "Map.addLayer(image.mean(), band_viz, 'methane')\n",
    "Map.setCenter(-74.297333, 4.570868, 5);\n",
    "\n",
    "# Se define la region de interes\n",
    "xMin = -65.654297\n",
    "yMin = -4.954507\n",
    "xMax = -82.573242\n",
    "yMax = 13.330474\n",
    "region = ee.Geometry.Rectangle([\n",
    "    [xMin, yMin],\n",
    "    [xMax, yMax]\n",
    "  ])"
   ]
  },
  {
   "cell_type": "code",
   "execution_count": 90,
   "id": "95e499cf-7655-4521-90d9-98f1678fa8dc",
   "metadata": {},
   "outputs": [
    {
     "data": {
      "text/plain": [
       "ee.image.Image"
      ]
     },
     "execution_count": 90,
     "metadata": {},
     "output_type": "execute_result"
    }
   ],
   "source": [
    "# se obtiene las coordenadas de la región dibujndo la region con un poligono\n",
    "#region = Map.user_roi #.getInfo()\n",
    "#print(region)\n",
    "mean=image.mean()\n",
    "type(mean.toArray())"
   ]
  },
  {
   "cell_type": "code",
   "execution_count": 11,
   "id": "b78ad942-d6de-4b3a-a765-fd3a4ed97303",
   "metadata": {},
   "outputs": [],
   "source": [
    "#Map.addLayer(image.mean(), band_viz, 'S5P Cloud')\n",
    "#geemap.clip_image(Map, region, Map)\n"
   ]
  },
  {
   "cell_type": "markdown",
   "id": "18de47ec-5ba8-4958-9f41-190c88ab1755",
   "metadata": {},
   "source": [
    "El resultado de dibujar el poligono y obtener las coordenadas es un json:\n",
    "\n",
    "ee.Geometry({\n",
    "  \"functionInvocationValue\": {\n",
    "    \"functionName\": \"GeometryConstructors.Polygon\",\n",
    "    \"arguments\": {\n",
    "      \"coordinates\": {\n",
    "        \"constantValue\": [\n",
    "          [\n",
    "            [\n",
    "              -82.573242,\n",
    "              -4.954507\n",
    "            ],\n",
    "            [\n",
    "              -82.573242,\n",
    "              13.330474\n",
    "            ],\n",
    "            [\n",
    "              -65.654297,\n",
    "              13.330474\n",
    "            ],\n",
    "            [\n",
    "              -65.654297,\n",
    "              -4.954507\n",
    "            ],\n",
    "            [\n",
    "              -82.573242,\n",
    "              -4.954507\n",
    "            ]\n",
    "          ]\n",
    "        ]\n",
    "      }\n",
    "    }\n",
    "  }\n",
    "})\n"
   ]
  },
  {
   "cell_type": "code",
   "execution_count": 14,
   "id": "e1aa284d-15de-43ed-8b80-8a5fcd15996a",
   "metadata": {},
   "outputs": [
    {
     "data": {
      "application/vnd.jupyter.widget-view+json": {
       "model_id": "0f26a611163c4385939d23555369867d",
       "version_major": 2,
       "version_minor": 0
      },
      "text/plain": [
       "Map(bottom=4292.0, center=[4.570868, -74.297333], controls=(WidgetControl(options=['position', 'transparent_bg…"
      ]
     },
     "execution_count": 14,
     "metadata": {},
     "output_type": "execute_result"
    }
   ],
   "source": [
    "# Mosaic the visualization layers and display (or export).\n",
    "mosaic = image.mosaic()\n",
    "# Map.addLayer(mosaic, {}, 'mosaic', False)\n",
    "\n",
    "# Create a circle by drawing a 20000 meter buffer around a point.\n",
    "clipped = mosaic.clip(region)\n",
    "\n",
    "# Display a clipped version of the mosaic.\n",
    "band_viz = {\n",
    "    'min': 0,\n",
    "    'max': 0.95,\n",
    "    'palette': ['black', 'blue', 'purple', 'cyan', 'green', 'yellow', 'red']\n",
    "}\n",
    "Map.addLayer(clipped, band_viz, 'Clipped image')\n",
    "\n",
    "# Display the map\n",
    "Map"
   ]
  },
  {
   "cell_type": "code",
   "execution_count": 12,
   "id": "adc0dbfc-47d4-4361-b85e-262a1d4ca82b",
   "metadata": {},
   "outputs": [
    {
     "name": "stdout",
     "output_type": "stream",
     "text": [
      "Object `ee.Export` not found.\n"
     ]
    }
   ],
   "source": [
    "ee.Export?"
   ]
  },
  {
   "cell_type": "code",
   "execution_count": 3,
   "id": "75ae782d-1493-49c2-a0e1-070f473bc95b",
   "metadata": {},
   "outputs": [],
   "source": [
    "shp=gdp.read_file('EEZ_land_union_v3_202003/EEZ_Land_v3_202030.shp')\n",
    "num_df.loc[num_df['a'] == 2]"
   ]
  },
  {
   "cell_type": "code",
   "execution_count": 12,
   "id": "6394a4f2",
   "metadata": {},
   "outputs": [
    {
     "data": {
      "text/plain": [
       "<AxesSubplot: >"
      ]
     },
     "execution_count": 12,
     "metadata": {},
     "output_type": "execute_result"
    },
    {
     "data": {
      "image/png": "[encoded data removed]",
      "text/plain": [
       "<Figure size 640x480 with 1 Axes>"
      ]
     },
     "metadata": {},
     "output_type": "display_data"
    }
   ],
   "source": [
    "# var shp=ee.FeatureCollection(polygon);\n",
    "# var colombiam=shp.filter(ee.Filter.eq('UNION', 'Colombia'));\n",
    "# //Map.addLayer(colombiam,{})\n",
    "# Map\n",
    "shp.loc[shp['UNION']=='Colombia'].plot()"
   ]
  },
  {
   "cell_type": "code",
   "execution_count": 208,
   "id": "57ada181",
   "metadata": {},
   "outputs": [],
   "source": [
    "#shp['TERRITORY1'].unique()\n",
    "#Crear gif\n",
    "from datetime import datetime\n",
    "import numpy as np\n",
    "from dateutil.relativedelta import relativedelta\n",
    "from geemap import cartoee\n",
    "s_date='2019-02-08' #Primera fecha disponible en el satelite\n",
    "e_date='2019-03-08'\n",
    "#np.datetime64(e_date)+ np.timedelta64(1, 'M')\n",
    "imagenes=[]\n",
    "date=[]\n",
    "for i in range (48): #Hay que contar el número de meses disponibles\n",
    "    image1 = ee.ImageCollection(\"COPERNICUS/S5P/OFFL/L3_CH4\").select(\"CH4_column_volume_mixing_ratio_dry_air_bias_corrected\").filterDate(s_date, e_date)\n",
    "    #Cambiar en image1 la banda y el satélite\n",
    "    img1 = image1.mean()\n",
    "    img_col=img1.clip(Front_col)\n",
    "    imagenes.append(img_col)\n",
    "    date.append(s_date)\n",
    "    s_date=e_date\n",
    "    new_e=datetime.strptime(e_date, '%Y-%m-%d')+ relativedelta(months=1)\n",
    "    e_date=str(new_e)\n",
    "    e_date=e_date.split()[0]\n",
    "   "
   ]
  },
  {
   "cell_type": "code",
   "execution_count": 209,
   "id": "79cb17aa",
   "metadata": {},
   "outputs": [
    {
     "data": {
      "application/vnd.jupyter.widget-view+json": {
       "model_id": "3339ac5bcf824fa8bc1d8756c762da77",
       "version_major": 2,
       "version_minor": 0
      },
      "text/plain": [
       "Map(center=[4.6, -74], controls=(WidgetControl(options=['position', 'transparent_bg'], widget=HBox(children=(T…"
      ]
     },
     "metadata": {},
     "output_type": "display_data"
    }
   ],
   "source": [
    "collection=ee.ImageCollection.fromImages(imagenes)\n",
    "vis_params = {    'min': 1600, 'max': 2000,'palette': ['black', 'blue', 'purple', 'cyan', 'green', 'yellow', 'red']}\n",
    "#Arreglar límites para la emisión\n",
    "image = ee.Image(collection.first())\n",
    "Mapg = geemap.Map(center=(4.6,-74),zoom=5.3)\n",
    "Mapg.addLayer(image, vis_params, 'First image',True,0.9)\n",
    "Mapg"
   ]
  },
  {
   "cell_type": "code",
   "execution_count": 213,
   "id": "fd214f8a",
   "metadata": {},
   "outputs": [],
   "source": [
    "aoi = ee.Geometry.Polygon(\n",
    "    [[[-85.0, 16.0], [-85.0, -5.5], [-65.8, -5.5], [-65.8, 16.0]]], None, False\n",
    ")\n",
    "\n",
    "# SO2Col = (\n",
    "#     ee.ImageCollection(\"COPERNICUS/S5P/OFFL/L3_SO2\")\n",
    "#     .filterDate('2019-12-22', '2019-12-25')\n",
    "#     .limit(24)\n",
    "#     .select('SO2_column_number_density')\n",
    "# )\n",
    "\n",
    "# Define arguments for animation function parameters.\n",
    "videoArgs = {\n",
    "\n",
    "    'region': aoi,\n",
    "    'framesPerSecond': 1,\n",
    "    'crs': 'EPSG:3857',\n",
    "    \"min\":  1600, #Cambiar límite\n",
    "    \"max\": 2000, #Cambiar límite\n",
    "    'palette': ['black', 'blue', 'purple', 'cyan', 'green', 'yellow', 'red'],\n",
    "}"
   ]
  },
  {
   "cell_type": "code",
   "execution_count": 214,
   "id": "8f420e7d",
   "metadata": {},
   "outputs": [
    {
     "name": "stdout",
     "output_type": "stream",
     "text": [
      "Generating URL...\n",
      "Downloading GIF image from https://earthengine.googleapis.com/v1alpha/projects/earthengine-legacy/videoThumbnails/753dab276a404ebe7129d8460184193c-b8b12465700a13634a091d34df8d2718:getPixels\n",
      "Please wait ...\n",
      "The GIF image has been saved to: /home/julian/Documentos/GEE_python/CH4.gif\n"
     ]
    }
   ],
   "source": [
    "saved_gif = os.path.join(os.path.expanduser('~'), 'Documentos/GEE_python/CH4.gif') #Cambiar el nombre del archivo\n",
    "geemap.download_ee_video(collection, videoArgs, saved_gif)"
   ]
  },
  {
   "cell_type": "code",
   "execution_count": 215,
   "id": "0da0486a",
   "metadata": {},
   "outputs": [
    {
     "data": {
      "application/vnd.jupyter.widget-view+json": {
       "model_id": "eaa89d09b96c46ddafa610a7a894c50d",
       "version_major": 2,
       "version_minor": 0
      },
      "text/plain": [
       "Output()"
      ]
     },
     "metadata": {},
     "output_type": "display_data"
    }
   ],
   "source": [
    "geemap.show_image(saved_gif)\n",
    "#geemap.download_ee_video?"
   ]
  },
  {
   "cell_type": "code",
   "execution_count": 205,
   "id": "c0b6fbb8",
   "metadata": {},
   "outputs": [
    {
     "name": "stdout",
     "output_type": "stream",
     "text": [
      "['00:00', '01:00', '02:00', '03:00', '04:00', '05:00', '06:00', '07:00', '08:00', '09:00', '10:00', '11:00', '12:00', '13:00', '14:00', '15:00', '16:00', '17:00', '18:00', '19:00', '20:00', '21:00', '22:00', '23:00']\n",
      "['2018-12-20', '2019-01-20', '2019-02-20', '2019-03-20', '2019-04-20', '2019-05-20', '2019-06-20', '2019-07-20', '2019-08-20', '2019-09-20', '2019-10-20', '2019-11-20', '2019-12-20', '2020-01-20', '2020-02-20', '2020-03-20', '2020-04-20', '2020-05-20', '2020-06-20', '2020-07-20', '2020-08-20', '2020-09-20', '2020-10-20', '2020-11-20', '2020-12-20', '2021-01-20', '2021-02-20', '2021-03-20', '2021-04-20', '2021-05-20', '2021-06-20', '2021-07-20', '2021-08-20', '2021-09-20', '2021-10-20', '2021-11-20', '2021-12-20', '2022-01-20', '2022-02-20', '2022-03-20', '2022-04-20', '2022-05-20', '2022-06-20', '2022-07-20', '2022-08-20', '2022-09-20', '2022-10-20', '2022-11-20', '2022-12-20', '2023-01-20']\n"
     ]
    }
   ],
   "source": [
    "text = [str(n).zfill(2) + \":00\" for n in range(0, 24)]\n",
    "print(text)\n",
    "print(date)"
   ]
  },
  {
   "cell_type": "code",
   "execution_count": 216,
   "id": "c2cf0d7e",
   "metadata": {},
   "outputs": [],
   "source": [
    "out_gif = os.path.join(os.path.expanduser('~'), 'Documentos/GEE_python/output_CH4.gif') #Cmbiar nombre de gas"
   ]
  },
  {
   "cell_type": "code",
   "execution_count": 217,
   "id": "563b2044",
   "metadata": {},
   "outputs": [],
   "source": [
    "geemap.add_text_to_gif(\n",
    "    saved_gif,\n",
    "    out_gif,\n",
    "    xy=('3%', '5%'),\n",
    "    text_sequence=date,\n",
    "    font_size=30,\n",
    "    font_color='#ffffff',\n",
    ")"
   ]
  },
  {
   "cell_type": "code",
   "execution_count": 218,
   "id": "7ce6d505",
   "metadata": {},
   "outputs": [],
   "source": [
    "geemap.add_text_to_gif(\n",
    "    out_gif,\n",
    "    out_gif,\n",
    "    xy=('32%', '92%'),\n",
    "    font_color='white',\n",
    ")"
   ]
  },
  {
   "cell_type": "code",
   "execution_count": 219,
   "id": "5e59acf5",
   "metadata": {},
   "outputs": [
    {
     "data": {
      "application/vnd.jupyter.widget-view+json": {
       "model_id": "5f5efb1097da4762a1763b7e3d932b05",
       "version_major": 2,
       "version_minor": 0
      },
      "text/plain": [
       "Output()"
      ]
     },
     "metadata": {},
     "output_type": "display_data"
    }
   ],
   "source": [
    "geemap.show_image(out_gif)"
   ]
  },
  {
   "cell_type": "code",
   "execution_count": null,
   "id": "5451aa73",
   "metadata": {},
   "outputs": [],
   "source": []
  }
 ],
 "metadata": {
  "kernelspec": {
   "display_name": "Python 3 (ipykernel)",
   "language": "python",
   "name": "python3"
  },
  "language_info": {
   "codemirror_mode": {
    "name": "ipython",
    "version": 3
   },
   "file_extension": ".py",
   "mimetype": "text/x-python",
   "name": "python",
   "nbconvert_exporter": "python",
   "pygments_lexer": "ipython3",
   "version": "3.9.16"
  }
 },
 "nbformat": 4,
 "nbformat_minor": 5
}
