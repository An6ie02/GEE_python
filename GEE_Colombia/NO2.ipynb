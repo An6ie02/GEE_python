{
 "cells": [
  {
   "cell_type": "markdown",
   "id": "46982415-20df-4fb0-8b74-9fb104916929",
   "metadata": {},
   "source": [
    "# Get data from Tropomi (S5P) satellite and data analisis\n",
    "\n",
    "In this Notebook we will develop a code for get an anaice data from S5p also we will \n",
    "learn abot print thos data at gmap usin lbraries like Geemap, geopandas and Earth engine api.\n",
    "\n",
    "sugegsted links: \n",
    "- https://courses.spatialthoughts.com/end-to-end-gee.html#earth-engine-objects\n"
   ]
  },
  {
   "cell_type": "markdown",
   "id": "76a96b86-3209-4ebf-aedb-2fdee48d15f6",
   "metadata": {},
   "source": [
    "First we eil import and initializate the GEE api"
   ]
  },
  {
   "cell_type": "code",
   "execution_count": 3,
   "id": "4a84efeb-66bf-403e-9eb5-822d850f7a9b",
   "metadata": {
    "tags": []
   },
   "outputs": [],
   "source": [
    "import ee\n",
    "import geemap\n",
    "import geopandas \n",
    "from ipyleaflet import GeoJSON\n",
    "from zipfile import ZipFile\n",
    "ee.Initialize()"
   ]
  },
  {
   "cell_type": "markdown",
   "id": "7dcbd7e9-430f-434d-98c0-6d4923783a75",
   "metadata": {},
   "source": [
    "Now we will create a ImageCollection from S5P sensor, you could choose beetwen the following \n",
    "layers:\n"
   ]
  },
  {
   "cell_type": "code",
   "execution_count": 16,
   "id": "7ca4fbae-ebcc-43b1-87c5-766bc1712118",
   "metadata": {},
   "outputs": [],
   "source": [
    "# Aviable layers:\n",
    "\n",
    "methane = \"COPERNICUS/S5P/OFFL/L3_CH4\"\n",
    "\n",
    "image = (ee.ImageCollection(methane).\n",
    "         select(\"CH4_column_volume_mixing_ratio_dry_air_bias_corrected\").\n",
    "         filterDate('2022-01-01', '2023-01-01'))\n",
    "\n",
    "Map = geemap.Map()"
   ]
  },
  {
   "cell_type": "markdown",
   "id": "737df3d2-a693-4084-b38a-cecb7bf5b93b",
   "metadata": {},
   "source": [
    "import a shapefile and create his layer:\n",
    "https://geemap.org/notebooks/65_vector_styling/#use-add_styled_vector"
   ]
  },
  {
   "cell_type": "code",
   "execution_count": 19,
   "id": "3e44275c-f1a1-4223-ad7b-0dadf3df793f",
   "metadata": {},
   "outputs": [],
   "source": [
    "departamentos = ee.FeatureCollection('users/hmojica/data/departamentos')\n",
    "style = {'color': '000000', 'width': 2, 'lineType': 'solid', 'fillColor': '00000000'}\n",
    "Map.addLayer(departamentos.style(**style), {}, \"Departamentos\")\n",
    "\n"
   ]
  },
  {
   "cell_type": "markdown",
   "id": "357cd72a-5097-4f30-b8e2-159e02a1866e",
   "metadata": {},
   "source": [
    "#### ee.ImageCollection.mean\n",
    "Reduces an image collection by calculating the mean of all values at each pixel across the stack of all matching bands. Bands are matched by name."
   ]
  },
  {
   "cell_type": "code",
   "execution_count": 9,
   "id": "35ac2954-c000-42f4-8978-b57e210a255b",
   "metadata": {},
   "outputs": [],
   "source": [
    "band_viz = {\n",
    "    'min': 1750,\n",
    "    'max': 1900,\n",
    "    'palette': ['black', 'blue', 'purple', 'cyan', 'green', 'yellow', 'red']\n",
    "}\n",
    "Map.addLayer(image.mean(), band_viz, 'methane')\n",
    "Map.setCenter(-74.297333, 4.570868, 5);\n",
    "\n",
    "# Se define la region de interes\n",
    "xMin = -65.654297\n",
    "yMin = -4.954507\n",
    "xMax = -82.573242\n",
    "yMax = 13.330474\n",
    "region = ee.Geometry.Rectangle([\n",
    "    [xMin, yMin],\n",
    "    [xMax, yMax]\n",
    "  ])"
   ]
  },
  {
   "cell_type": "code",
   "execution_count": 10,
   "id": "95e499cf-7655-4521-90d9-98f1678fa8dc",
   "metadata": {},
   "outputs": [],
   "source": [
    "# se obtiene las coordenadas de la región dibujndo la region con un poligono\n",
    "#region = Map.user_roi #.getInfo()\n",
    "#print(region)\n"
   ]
  },
  {
   "cell_type": "code",
   "execution_count": 11,
   "id": "b78ad942-d6de-4b3a-a765-fd3a4ed97303",
   "metadata": {},
   "outputs": [],
   "source": [
    "#Map.addLayer(image.mean(), band_viz, 'S5P Cloud')\n",
    "#geemap.clip_image(Map, region, Map)\n"
   ]
  },
  {
   "cell_type": "markdown",
   "id": "18de47ec-5ba8-4958-9f41-190c88ab1755",
   "metadata": {},
   "source": [
    "El resultado de dibujar el poligono y obtener las coordenadas es un json:\n",
    "\n",
    "ee.Geometry({\n",
    "  \"functionInvocationValue\": {\n",
    "    \"functionName\": \"GeometryConstructors.Polygon\",\n",
    "    \"arguments\": {\n",
    "      \"coordinates\": {\n",
    "        \"constantValue\": [\n",
    "          [\n",
    "            [\n",
    "              -82.573242,\n",
    "              -4.954507\n",
    "            ],\n",
    "            [\n",
    "              -82.573242,\n",
    "              13.330474\n",
    "            ],\n",
    "            [\n",
    "              -65.654297,\n",
    "              13.330474\n",
    "            ],\n",
    "            [\n",
    "              -65.654297,\n",
    "              -4.954507\n",
    "            ],\n",
    "            [\n",
    "              -82.573242,\n",
    "              -4.954507\n",
    "            ]\n",
    "          ]\n",
    "        ]\n",
    "      }\n",
    "    }\n",
    "  }\n",
    "})\n"
   ]
  },
  {
   "cell_type": "code",
   "execution_count": 14,
   "id": "e1aa284d-15de-43ed-8b80-8a5fcd15996a",
   "metadata": {},
   "outputs": [
    {
     "data": {
      "application/vnd.jupyter.widget-view+json": {
       "model_id": "0f26a611163c4385939d23555369867d",
       "version_major": 2,
       "version_minor": 0
      },
      "text/plain": [
       "Map(bottom=4292.0, center=[4.570868, -74.297333], controls=(WidgetControl(options=['position', 'transparent_bg…"
      ]
     },
     "execution_count": 14,
     "metadata": {},
     "output_type": "execute_result"
    }
   ],
   "source": [
    "# Mosaic the visualization layers and display (or export).\n",
    "mosaic = image.mosaic()\n",
    "# Map.addLayer(mosaic, {}, 'mosaic', False)\n",
    "\n",
    "# Create a circle by drawing a 20000 meter buffer around a point.\n",
    "clipped = mosaic.clip(region)\n",
    "\n",
    "# Display a clipped version of the mosaic.\n",
    "band_viz = {\n",
    "    'min': 0,\n",
    "    'max': 0.95,\n",
    "    'palette': ['black', 'blue', 'purple', 'cyan', 'green', 'yellow', 'red']\n",
    "}\n",
    "Map.addLayer(clipped, band_viz, 'Clipped image')\n",
    "\n",
    "# Display the map\n",
    "Map"
   ]
  },
  {
   "cell_type": "code",
   "execution_count": null,
   "id": "adc0dbfc-47d4-4361-b85e-262a1d4ca82b",
   "metadata": {},
   "outputs": [],
   "source": []
  },
  {
   "cell_type": "code",
   "execution_count": null,
   "id": "75ae782d-1493-49c2-a0e1-070f473bc95b",
   "metadata": {},
   "outputs": [],
   "source": []
  }
 ],
 "metadata": {
  "kernelspec": {
   "display_name": "Python 3 (ipykernel)",
   "language": "python",
   "name": "python3"
  },
  "language_info": {
   "codemirror_mode": {
    "name": "ipython",
    "version": 3
   },
   "file_extension": ".py",
   "mimetype": "text/x-python",
   "name": "python",
   "nbconvert_exporter": "python",
   "pygments_lexer": "ipython3",
   "version": "3.10.9"
  }
 },
 "nbformat": 4,
 "nbformat_minor": 5
}
