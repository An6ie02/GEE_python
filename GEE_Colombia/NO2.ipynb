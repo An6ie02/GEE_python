{
 "cells": [
  {
   "cell_type": "code",
   "execution_count": 41,
   "id": "4a84efeb-66bf-403e-9eb5-822d850f7a9b",
   "metadata": {
    "tags": []
   },
   "outputs": [],
   "source": [
    "import ee\n",
    "import geemap\n",
    "import geopandas \n",
    "from ipyleaflet import GeoJSON\n",
    "from zipfile import ZipFile\n",
    "ee.Initialize()"
   ]
  },
  {
   "cell_type": "code",
   "execution_count": 42,
   "id": "b1ee289a-9d6b-4c18-a1bb-272bbf947988",
   "metadata": {},
   "outputs": [],
   "source": [
    "#file_name = \"/data/MGN2021_DPTO_POLITICO.zip\" \n",
    "#print(\"Showing content files... \\n\")\n",
    "#with ZipFile(file_name, 'r') as departamentos:\n",
    "    # printing all the contents of the zip file\n",
    "#    departamentos.printdir()\n",
    "#print('---------- \\n')\n",
    "\n",
    "\n",
    "\n"
   ]
  },
  {
   "cell_type": "code",
   "execution_count": 45,
   "id": "e9e115bc-e72d-46ed-adc9-1f6b5e3db271",
   "metadata": {},
   "outputs": [],
   "source": [
    "image = (ee.ImageCollection(\"COPERNICUS/S5P/OFFL/L3_CLOUD\").\n",
    "         select(\"cloud_fraction\").\n",
    "         filterDate('2022-12-20', '2022-12-21'))\n",
    "\n",
    "Map = geemap.Map()"
   ]
  },
  {
   "cell_type": "code",
   "execution_count": 50,
   "id": "3e44275c-f1a1-4223-ad7b-0dadf3df793f",
   "metadata": {},
   "outputs": [
    {
     "name": "stdout",
     "output_type": "stream",
     "text": [
      "'utf-8' codec can't decode byte 0xcd in position 6: invalid continuation byte\n"
     ]
    }
   ],
   "source": [
    "departamentos_shp = '/home/bojack/Documents/Tropomi/HIDES_repo/GEE_Colombia/data/MGN_MPIO_POLITICO.shp'\n",
    "departamentos = geemap.shp_to_ee(departamentos_shp)\n"
   ]
  },
  {
   "cell_type": "code",
   "execution_count": null,
   "id": "342bb30a-4665-4f18-bb07-5c4f27da19c8",
   "metadata": {},
   "outputs": [],
   "source": [
    "band_viz = {\n",
    "    'min': 0,\n",
    "    'max': 0.95,\n",
    "    'palette': ['black', 'blue', 'purple', 'cyan', 'green', 'yellow', 'red']\n",
    "}"
   ]
  },
  {
   "cell_type": "markdown",
   "id": "357cd72a-5097-4f30-b8e2-159e02a1866e",
   "metadata": {},
   "source": [
    "#### ee.ImageCollection.mean\n",
    "Reduces an image collection by calculating the mean of all values at each pixel across the stack of all matching bands. Bands are matched by name."
   ]
  },
  {
   "cell_type": "code",
   "execution_count": null,
   "id": "35ac2954-c000-42f4-8978-b57e210a255b",
   "metadata": {},
   "outputs": [],
   "source": [
    "#Map.addLayer(image.mean(), band_viz, 'S5P Cloud')\n",
    "Map.setCenter(-74.297333, 4.570868, 5);\n",
    "\n",
    "# Se define la region de interes\n",
    "xMin = -65.654297\n",
    "yMin = -4.954507\n",
    "xMax = -82.573242\n",
    "yMax = 13.330474\n",
    "region = ee.Geometry.Rectangle([\n",
    "    [xMin, yMin],\n",
    "    [xMax, yMax]\n",
    "  ])"
   ]
  },
  {
   "cell_type": "code",
   "execution_count": null,
   "id": "95e499cf-7655-4521-90d9-98f1678fa8dc",
   "metadata": {},
   "outputs": [],
   "source": [
    "# se obtiene las coordenadas de la región dibujndo la region con un poligono\n",
    "#region = Map.user_roi #.getInfo()\n",
    "#print(region)\n"
   ]
  },
  {
   "cell_type": "code",
   "execution_count": null,
   "id": "b78ad942-d6de-4b3a-a765-fd3a4ed97303",
   "metadata": {},
   "outputs": [],
   "source": [
    "#Map.addLayer(image.mean(), band_viz, 'S5P Cloud')\n",
    "#geemap.clip_image(Map, region, Map)\n"
   ]
  },
  {
   "cell_type": "markdown",
   "id": "18de47ec-5ba8-4958-9f41-190c88ab1755",
   "metadata": {},
   "source": [
    "El resultado de dibujar el poligono y obtener las coordenadas es un json:\n",
    "\n",
    "ee.Geometry({\n",
    "  \"functionInvocationValue\": {\n",
    "    \"functionName\": \"GeometryConstructors.Polygon\",\n",
    "    \"arguments\": {\n",
    "      \"coordinates\": {\n",
    "        \"constantValue\": [\n",
    "          [\n",
    "            [\n",
    "              -82.573242,\n",
    "              -4.954507\n",
    "            ],\n",
    "            [\n",
    "              -82.573242,\n",
    "              13.330474\n",
    "            ],\n",
    "            [\n",
    "              -65.654297,\n",
    "              13.330474\n",
    "            ],\n",
    "            [\n",
    "              -65.654297,\n",
    "              -4.954507\n",
    "            ],\n",
    "            [\n",
    "              -82.573242,\n",
    "              -4.954507\n",
    "            ]\n",
    "          ]\n",
    "        ]\n",
    "      }\n",
    "    }\n",
    "  }\n",
    "})\n"
   ]
  },
  {
   "cell_type": "code",
   "execution_count": null,
   "id": "e1aa284d-15de-43ed-8b80-8a5fcd15996a",
   "metadata": {},
   "outputs": [],
   "source": [
    "# Mosaic the visualization layers and display (or export).\n",
    "mosaic = image.mosaic()\n",
    "# Map.addLayer(mosaic, {}, 'mosaic', False)\n",
    "\n",
    "# Create a circle by drawing a 20000 meter buffer around a point.\n",
    "clipped = mosaic.clip(region)\n",
    "\n",
    "# Display a clipped version of the mosaic.\n",
    "Map.addLayer(clipped, band_viz, 'Clipped image')\n",
    "\n",
    "# Display the map\n",
    "Map"
   ]
  },
  {
   "cell_type": "code",
   "execution_count": null,
   "id": "adc0dbfc-47d4-4361-b85e-262a1d4ca82b",
   "metadata": {},
   "outputs": [],
   "source": []
  },
  {
   "cell_type": "code",
   "execution_count": null,
   "id": "75ae782d-1493-49c2-a0e1-070f473bc95b",
   "metadata": {},
   "outputs": [],
   "source": []
  }
 ],
 "metadata": {
  "kernelspec": {
   "display_name": "Python 3 (ipykernel)",
   "language": "python",
   "name": "python3"
  },
  "language_info": {
   "codemirror_mode": {
    "name": "ipython",
    "version": 3
   },
   "file_extension": ".py",
   "mimetype": "text/x-python",
   "name": "python",
   "nbconvert_exporter": "python",
   "pygments_lexer": "ipython3",
   "version": "3.10.9"
  }
 },
 "nbformat": 4,
 "nbformat_minor": 5
}
