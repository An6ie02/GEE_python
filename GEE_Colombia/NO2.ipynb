{
 "cells": [
  {
   "cell_type": "markdown",
   "id": "46982415-20df-4fb0-8b74-9fb104916929",
   "metadata": {},
   "source": [
    "# Get data from Tropomi (S5P) satellite and data analisis\n",
    "\n",
    "In this Notebook we will develop a code for get an anaice data from S5p also we will \n",
    "learn abot print thos data at gmap usin lbraries like Geemap, geopandas and Earth engine api.\n",
    "\n",
    "sugegsted links: \n",
    "- https://courses.spatialthoughts.com/end-to-end-gee.html#earth-engine-objects\n"
   ]
  },
  {
   "cell_type": "markdown",
   "id": "76a96b86-3209-4ebf-aedb-2fdee48d15f6",
   "metadata": {},
   "source": [
    "First we eil import and initializate the GEE api"
   ]
  },
  {
   "cell_type": "code",
   "execution_count": 2,
   "id": "4a84efeb-66bf-403e-9eb5-822d850f7a9b",
   "metadata": {
    "tags": []
   },
   "outputs": [],
   "source": [
    "import ee\n",
    "import geemap\n",
    "import geopandas \n",
    "from ipyleaflet import GeoJSON\n",
    "from zipfile import ZipFile\n",
    "ee.Initialize()"
   ]
  },
  {
   "cell_type": "markdown",
   "id": "7dcbd7e9-430f-434d-98c0-6d4923783a75",
   "metadata": {},
   "source": [
    "Now we will create a ImageCollection from S5P sensor, you could choose beetwen the following \n",
    "layers:\n"
   ]
  },
  {
   "cell_type": "code",
   "execution_count": 53,
   "id": "7ca4fbae-ebcc-43b1-87c5-766bc1712118",
   "metadata": {},
   "outputs": [],
   "source": [
    "# Aviable layers:\n",
    "\n",
    "methane = \"COPERNICUS/S5P/OFFL/L3_CH4\"\n",
    "\n",
    "image = (ee.ImageCollection(methane).\n",
    "         select(\"CH4_column_volume_mixing_ratio_dry_air_bias_corrected\").\n",
    "         filterDate('2022-01-01', '2023-01-01'))\n",
    "\n",
    "Map = geemap.Map()"
   ]
  },
  {
   "cell_type": "code",
   "execution_count": 80,
   "id": "9179c268-1461-45fb-85d6-255f86f989ce",
   "metadata": {},
   "outputs": [
    {
     "ename": "EEException",
     "evalue": "Image.reduceToVectors: Provide 'geometry' parameter when aggregating over an unbounded image.",
     "output_type": "error",
     "traceback": [
      "\u001b[0;31m---------------------------------------------------------------------------\u001b[0m",
      "\u001b[0;31mHttpError\u001b[0m                                 Traceback (most recent call last)",
      "\u001b[0;32m~/anaconda3/lib/python3.9/site-packages/ee/data.py\u001b[0m in \u001b[0;36m_execute_cloud_call\u001b[0;34m(call, num_retries)\u001b[0m\n\u001b[1;32m    325\u001b[0m   \u001b[0;32mtry\u001b[0m\u001b[0;34m:\u001b[0m\u001b[0;34m\u001b[0m\u001b[0;34m\u001b[0m\u001b[0m\n\u001b[0;32m--> 326\u001b[0;31m     \u001b[0;32mreturn\u001b[0m \u001b[0mcall\u001b[0m\u001b[0;34m.\u001b[0m\u001b[0mexecute\u001b[0m\u001b[0;34m(\u001b[0m\u001b[0mnum_retries\u001b[0m\u001b[0;34m=\u001b[0m\u001b[0mnum_retries\u001b[0m\u001b[0;34m)\u001b[0m\u001b[0;34m\u001b[0m\u001b[0;34m\u001b[0m\u001b[0m\n\u001b[0m\u001b[1;32m    327\u001b[0m   \u001b[0;32mexcept\u001b[0m \u001b[0mgoogleapiclient\u001b[0m\u001b[0;34m.\u001b[0m\u001b[0merrors\u001b[0m\u001b[0;34m.\u001b[0m\u001b[0mHttpError\u001b[0m \u001b[0;32mas\u001b[0m \u001b[0me\u001b[0m\u001b[0;34m:\u001b[0m\u001b[0;34m\u001b[0m\u001b[0;34m\u001b[0m\u001b[0m\n",
      "\u001b[0;32m~/anaconda3/lib/python3.9/site-packages/googleapiclient/_helpers.py\u001b[0m in \u001b[0;36mpositional_wrapper\u001b[0;34m(*args, **kwargs)\u001b[0m\n\u001b[1;32m    129\u001b[0m                     \u001b[0mlogger\u001b[0m\u001b[0;34m.\u001b[0m\u001b[0mwarning\u001b[0m\u001b[0;34m(\u001b[0m\u001b[0mmessage\u001b[0m\u001b[0;34m)\u001b[0m\u001b[0;34m\u001b[0m\u001b[0;34m\u001b[0m\u001b[0m\n\u001b[0;32m--> 130\u001b[0;31m             \u001b[0;32mreturn\u001b[0m \u001b[0mwrapped\u001b[0m\u001b[0;34m(\u001b[0m\u001b[0;34m*\u001b[0m\u001b[0margs\u001b[0m\u001b[0;34m,\u001b[0m \u001b[0;34m**\u001b[0m\u001b[0mkwargs\u001b[0m\u001b[0;34m)\u001b[0m\u001b[0;34m\u001b[0m\u001b[0;34m\u001b[0m\u001b[0m\n\u001b[0m\u001b[1;32m    131\u001b[0m \u001b[0;34m\u001b[0m\u001b[0m\n",
      "\u001b[0;32m~/anaconda3/lib/python3.9/site-packages/googleapiclient/http.py\u001b[0m in \u001b[0;36mexecute\u001b[0;34m(self, http, num_retries)\u001b[0m\n\u001b[1;32m    937\u001b[0m         \u001b[0;32mif\u001b[0m \u001b[0mresp\u001b[0m\u001b[0;34m.\u001b[0m\u001b[0mstatus\u001b[0m \u001b[0;34m>=\u001b[0m \u001b[0;36m300\u001b[0m\u001b[0;34m:\u001b[0m\u001b[0;34m\u001b[0m\u001b[0;34m\u001b[0m\u001b[0m\n\u001b[0;32m--> 938\u001b[0;31m             \u001b[0;32mraise\u001b[0m \u001b[0mHttpError\u001b[0m\u001b[0;34m(\u001b[0m\u001b[0mresp\u001b[0m\u001b[0;34m,\u001b[0m \u001b[0mcontent\u001b[0m\u001b[0;34m,\u001b[0m \u001b[0muri\u001b[0m\u001b[0;34m=\u001b[0m\u001b[0mself\u001b[0m\u001b[0;34m.\u001b[0m\u001b[0muri\u001b[0m\u001b[0;34m)\u001b[0m\u001b[0;34m\u001b[0m\u001b[0;34m\u001b[0m\u001b[0m\n\u001b[0m\u001b[1;32m    939\u001b[0m         \u001b[0;32mreturn\u001b[0m \u001b[0mself\u001b[0m\u001b[0;34m.\u001b[0m\u001b[0mpostproc\u001b[0m\u001b[0;34m(\u001b[0m\u001b[0mresp\u001b[0m\u001b[0;34m,\u001b[0m \u001b[0mcontent\u001b[0m\u001b[0;34m)\u001b[0m\u001b[0;34m\u001b[0m\u001b[0;34m\u001b[0m\u001b[0m\n",
      "\u001b[0;31mHttpError\u001b[0m: <HttpError 400 when requesting https://earthengine.googleapis.com/v1alpha/projects/earthengine-legacy/value:compute?prettyPrint=false&alt=json returned \"Image.reduceToVectors: Provide 'geometry' parameter when aggregating over an unbounded image.\". Details: \"Image.reduceToVectors: Provide 'geometry' parameter when aggregating over an unbounded image.\">",
      "\nDuring handling of the above exception, another exception occurred:\n",
      "\u001b[0;31mEEException\u001b[0m                               Traceback (most recent call last)",
      "\u001b[0;32m/tmp/ipykernel_8052/2543197190.py\u001b[0m in \u001b[0;36m<module>\u001b[0;34m\u001b[0m\n\u001b[1;32m      1\u001b[0m \u001b[0mextrema\u001b[0m \u001b[0;34m=\u001b[0m \u001b[0mimage\u001b[0m\u001b[0;34m.\u001b[0m\u001b[0mreduce\u001b[0m\u001b[0;34m(\u001b[0m\u001b[0mee\u001b[0m\u001b[0;34m.\u001b[0m\u001b[0mReducer\u001b[0m\u001b[0;34m.\u001b[0m\u001b[0mmean\u001b[0m\u001b[0;34m(\u001b[0m\u001b[0;34m)\u001b[0m\u001b[0;34m)\u001b[0m\u001b[0;34m\u001b[0m\u001b[0;34m\u001b[0m\u001b[0m\n\u001b[1;32m      2\u001b[0m \u001b[0mplane_data\u001b[0m\u001b[0;34m=\u001b[0m\u001b[0mextrema\u001b[0m\u001b[0;34m.\u001b[0m\u001b[0mreduceToVectors\u001b[0m\u001b[0;34m(\u001b[0m\u001b[0;34m)\u001b[0m\u001b[0;34m\u001b[0m\u001b[0;34m\u001b[0m\u001b[0m\n\u001b[0;32m----> 3\u001b[0;31m \u001b[0mplane_data\u001b[0m\u001b[0;34m.\u001b[0m\u001b[0mgetInfo\u001b[0m\u001b[0;34m(\u001b[0m\u001b[0;34m)\u001b[0m\u001b[0;34m\u001b[0m\u001b[0;34m\u001b[0m\u001b[0m\n\u001b[0m\u001b[1;32m      4\u001b[0m \u001b[0;31m# data=ee.batch.Export.table.toDrive(plane_data,fileFormat='GeoJSON')\u001b[0m\u001b[0;34m\u001b[0m\u001b[0;34m\u001b[0m\u001b[0m\n\u001b[1;32m      5\u001b[0m \u001b[0;31m# data?\u001b[0m\u001b[0;34m\u001b[0m\u001b[0;34m\u001b[0m\u001b[0m\n",
      "\u001b[0;32m~/anaconda3/lib/python3.9/site-packages/ee/collection.py\u001b[0m in \u001b[0;36mgetInfo\u001b[0;34m(self)\u001b[0m\n\u001b[1;32m    131\u001b[0m            \u001b[0mproperties\u001b[0m\u001b[0;34m.\u001b[0m\u001b[0;34m\u001b[0m\u001b[0;34m\u001b[0m\u001b[0m\n\u001b[1;32m    132\u001b[0m     \"\"\"\n\u001b[0;32m--> 133\u001b[0;31m     \u001b[0;32mreturn\u001b[0m \u001b[0msuper\u001b[0m\u001b[0;34m(\u001b[0m\u001b[0mCollection\u001b[0m\u001b[0;34m,\u001b[0m \u001b[0mself\u001b[0m\u001b[0;34m)\u001b[0m\u001b[0;34m.\u001b[0m\u001b[0mgetInfo\u001b[0m\u001b[0;34m(\u001b[0m\u001b[0;34m)\u001b[0m\u001b[0;34m\u001b[0m\u001b[0;34m\u001b[0m\u001b[0m\n\u001b[0m\u001b[1;32m    134\u001b[0m \u001b[0;34m\u001b[0m\u001b[0m\n\u001b[1;32m    135\u001b[0m   \u001b[0;32mdef\u001b[0m \u001b[0mlimit\u001b[0m\u001b[0;34m(\u001b[0m\u001b[0mself\u001b[0m\u001b[0;34m,\u001b[0m \u001b[0mmaximum\u001b[0m\u001b[0;34m,\u001b[0m \u001b[0mopt_property\u001b[0m\u001b[0;34m=\u001b[0m\u001b[0;32mNone\u001b[0m\u001b[0;34m,\u001b[0m \u001b[0mopt_ascending\u001b[0m\u001b[0;34m=\u001b[0m\u001b[0;32mNone\u001b[0m\u001b[0;34m)\u001b[0m\u001b[0;34m:\u001b[0m\u001b[0;34m\u001b[0m\u001b[0;34m\u001b[0m\u001b[0m\n",
      "\u001b[0;32m~/anaconda3/lib/python3.9/site-packages/ee/computedobject.py\u001b[0m in \u001b[0;36mgetInfo\u001b[0;34m(self)\u001b[0m\n\u001b[1;32m     94\u001b[0m       \u001b[0mThe\u001b[0m \u001b[0mobject\u001b[0m \u001b[0mcan\u001b[0m \u001b[0mevaluate\u001b[0m \u001b[0mto\u001b[0m \u001b[0manything\u001b[0m\u001b[0;34m.\u001b[0m\u001b[0;34m\u001b[0m\u001b[0;34m\u001b[0m\u001b[0m\n\u001b[1;32m     95\u001b[0m     \"\"\"\n\u001b[0;32m---> 96\u001b[0;31m     \u001b[0;32mreturn\u001b[0m \u001b[0mdata\u001b[0m\u001b[0;34m.\u001b[0m\u001b[0mcomputeValue\u001b[0m\u001b[0;34m(\u001b[0m\u001b[0mself\u001b[0m\u001b[0;34m)\u001b[0m\u001b[0;34m\u001b[0m\u001b[0;34m\u001b[0m\u001b[0m\n\u001b[0m\u001b[1;32m     97\u001b[0m \u001b[0;34m\u001b[0m\u001b[0m\n\u001b[1;32m     98\u001b[0m   \u001b[0;32mdef\u001b[0m \u001b[0mencode\u001b[0m\u001b[0;34m(\u001b[0m\u001b[0mself\u001b[0m\u001b[0;34m,\u001b[0m \u001b[0mencoder\u001b[0m\u001b[0;34m)\u001b[0m\u001b[0;34m:\u001b[0m\u001b[0;34m\u001b[0m\u001b[0;34m\u001b[0m\u001b[0m\n",
      "\u001b[0;32m~/anaconda3/lib/python3.9/site-packages/ee/data.py\u001b[0m in \u001b[0;36mcomputeValue\u001b[0;34m(obj)\u001b[0m\n\u001b[1;32m    774\u001b[0m   \u001b[0m_maybe_populate_workload_tag\u001b[0m\u001b[0;34m(\u001b[0m\u001b[0mbody\u001b[0m\u001b[0;34m)\u001b[0m\u001b[0;34m\u001b[0m\u001b[0;34m\u001b[0m\u001b[0m\n\u001b[1;32m    775\u001b[0m \u001b[0;34m\u001b[0m\u001b[0m\n\u001b[0;32m--> 776\u001b[0;31m   return _execute_cloud_call(\n\u001b[0m\u001b[1;32m    777\u001b[0m       _get_cloud_api_resource().projects().value().compute(\n\u001b[1;32m    778\u001b[0m           \u001b[0mbody\u001b[0m\u001b[0;34m=\u001b[0m\u001b[0mbody\u001b[0m\u001b[0;34m,\u001b[0m\u001b[0;34m\u001b[0m\u001b[0;34m\u001b[0m\u001b[0m\n",
      "\u001b[0;32m~/anaconda3/lib/python3.9/site-packages/ee/data.py\u001b[0m in \u001b[0;36m_execute_cloud_call\u001b[0;34m(call, num_retries)\u001b[0m\n\u001b[1;32m    326\u001b[0m     \u001b[0;32mreturn\u001b[0m \u001b[0mcall\u001b[0m\u001b[0;34m.\u001b[0m\u001b[0mexecute\u001b[0m\u001b[0;34m(\u001b[0m\u001b[0mnum_retries\u001b[0m\u001b[0;34m=\u001b[0m\u001b[0mnum_retries\u001b[0m\u001b[0;34m)\u001b[0m\u001b[0;34m\u001b[0m\u001b[0;34m\u001b[0m\u001b[0m\n\u001b[1;32m    327\u001b[0m   \u001b[0;32mexcept\u001b[0m \u001b[0mgoogleapiclient\u001b[0m\u001b[0;34m.\u001b[0m\u001b[0merrors\u001b[0m\u001b[0;34m.\u001b[0m\u001b[0mHttpError\u001b[0m \u001b[0;32mas\u001b[0m \u001b[0me\u001b[0m\u001b[0;34m:\u001b[0m\u001b[0;34m\u001b[0m\u001b[0;34m\u001b[0m\u001b[0m\n\u001b[0;32m--> 328\u001b[0;31m     \u001b[0;32mraise\u001b[0m \u001b[0m_translate_cloud_exception\u001b[0m\u001b[0;34m(\u001b[0m\u001b[0me\u001b[0m\u001b[0;34m)\u001b[0m\u001b[0;34m\u001b[0m\u001b[0;34m\u001b[0m\u001b[0m\n\u001b[0m\u001b[1;32m    329\u001b[0m \u001b[0;34m\u001b[0m\u001b[0m\n\u001b[1;32m    330\u001b[0m \u001b[0;34m\u001b[0m\u001b[0m\n",
      "\u001b[0;31mEEException\u001b[0m: Image.reduceToVectors: Provide 'geometry' parameter when aggregating over an unbounded image."
     ]
    }
   ],
   "source": [
    "extrema = image.reduce(ee.Reducer.mean())\n",
    "plane_data=extrema.reduceToVectors()\n",
    "plane_data.getInfo()\n",
    "data=ee.batch.Export.table.toDrive(plane_data,fileFormat='GeoJSON')\n",
    "# data?"
   ]
  },
  {
   "cell_type": "code",
   "execution_count": 81,
   "id": "2d2c510f-fe1d-4f3e-b146-88ffc9cb0522",
   "metadata": {},
   "outputs": [
    {
     "name": "stdout",
     "output_type": "stream",
     "text": [
      "ee.Array({\n",
      "  \"functionInvocationValue\": {\n",
      "    \"functionName\": \"Array\",\n",
      "    \"arguments\": {\n",
      "      \"values\": {\n",
      "        \"functionInvocationValue\": {\n",
      "          \"functionName\": \"Element.getArray\",\n",
      "          \"arguments\": {\n",
      "            \"object\": {\n",
      "              \"functionInvocationValue\": {\n",
      "                \"functionName\": \"Image.reduceToVectors\",\n",
      "                \"arguments\": {\n",
      "                  \"image\": {\n",
      "                    \"functionInvocationValue\": {\n",
      "                      \"functionName\": \"ImageCollection.toArray\",\n",
      "                      \"arguments\": {\n",
      "                        \"collection\": {\n",
      "                          \"functionInvocationValue\": {\n",
      "                            \"functionName\": \"Collection.filter\",\n",
      "                            \"arguments\": {\n",
      "                              \"collection\": {\n",
      "                                \"functionInvocationValue\": {\n",
      "                                  \"functionName\": \"Collection.map\",\n",
      "                                  \"arguments\": {\n",
      "                                    \"baseAlgorithm\": {\n",
      "                                      \"functionDefinitionValue\": {\n",
      "                                        \"argumentNames\": [\n",
      "                                          \"_MAPPING_VAR_0_0\"\n",
      "                                        ],\n",
      "                                        \"body\": {\n",
      "                                          \"functionInvocationValue\": {\n",
      "                                            \"functionName\": \"Image.select\",\n",
      "                                            \"arguments\": {\n",
      "                                              \"bandSelectors\": {\n",
      "                                                \"constantValue\": [\n",
      "                                                  \"CH4_column_volume_mixing_ratio_dry_air_bias_corrected\"\n",
      "                                                ]\n",
      "                                              },\n",
      "                                              \"input\": {\n",
      "                                                \"argumentReference\": \"_MAPPING_VAR_0_0\"\n",
      "                                              }\n",
      "                                            }\n",
      "                                          }\n",
      "                                        }\n",
      "                                      }\n",
      "                                    },\n",
      "                                    \"collection\": {\n",
      "                                      \"functionInvocationValue\": {\n",
      "                                        \"functionName\": \"ImageCollection.load\",\n",
      "                                        \"arguments\": {\n",
      "                                          \"id\": {\n",
      "                                            \"constantValue\": \"COPERNICUS/S5P/OFFL/L3_CH4\"\n",
      "                                          }\n",
      "                                        }\n",
      "                                      }\n",
      "                                    }\n",
      "                                  }\n",
      "                                }\n",
      "                              },\n",
      "                              \"filter\": {\n",
      "                                \"functionInvocationValue\": {\n",
      "                                  \"functionName\": \"Filter.dateRangeContains\",\n",
      "                                  \"arguments\": {\n",
      "                                    \"leftValue\": {\n",
      "                                      \"functionInvocationValue\": {\n",
      "                                        \"functionName\": \"DateRange\",\n",
      "                                        \"arguments\": {\n",
      "                                          \"end\": {\n",
      "                                            \"constantValue\": \"2023-01-01\"\n",
      "                                          },\n",
      "                                          \"start\": {\n",
      "                                            \"constantValue\": \"2022-01-01\"\n",
      "                                          }\n",
      "                                        }\n",
      "                                      }\n",
      "                                    },\n",
      "                                    \"rightField\": {\n",
      "                                      \"constantValue\": \"system:time_start\"\n",
      "                                    }\n",
      "                                  }\n",
      "                                }\n",
      "                              }\n",
      "                            }\n",
      "                          }\n",
      "                        }\n",
      "                      }\n",
      "                    }\n",
      "                  }\n",
      "                }\n",
      "              }\n",
      "            },\n",
      "            \"property\": {\n",
      "              \"constantValue\": \"name\"\n",
      "            }\n",
      "          }\n",
      "        }\n",
      "      }\n",
      "    }\n",
      "  }\n",
      "})\n"
     ]
    }
   ],
   "source": [
    "datai=image.toArray()\n",
    "plane_data=datai.reduceToVectors()\n",
    "print(plane_data.getArray('name'))"
   ]
  },
  {
   "cell_type": "markdown",
   "id": "737df3d2-a693-4084-b38a-cecb7bf5b93b",
   "metadata": {},
   "source": [
    "import a shapefile and create his layer:\n",
    "https://geemap.org/notebooks/65_vector_styling/#use-add_styled_vector"
   ]
  },
  {
   "cell_type": "code",
   "execution_count": 19,
   "id": "3e44275c-f1a1-4223-ad7b-0dadf3df793f",
   "metadata": {},
   "outputs": [],
   "source": [
    "departamentos = ee.FeatureCollection('users/hmojica/data/departamentos')\n",
    "style = {'color': '000000', 'width': 2, 'lineType': 'solid', 'fillColor': '00000000'}\n",
    "Map.addLayer(departamentos.style(**style), {}, \"Departamentos\")\n",
    "\n"
   ]
  },
  {
   "cell_type": "markdown",
   "id": "357cd72a-5097-4f30-b8e2-159e02a1866e",
   "metadata": {},
   "source": [
    "#### ee.ImageCollection.mean\n",
    "Reduces an image collection by calculating the mean of all values at each pixel across the stack of all matching bands. Bands are matched by name."
   ]
  },
  {
   "cell_type": "code",
   "execution_count": 9,
   "id": "35ac2954-c000-42f4-8978-b57e210a255b",
   "metadata": {},
   "outputs": [],
   "source": [
    "band_viz = {\n",
    "    'min': 1750,\n",
    "    'max': 1900,\n",
    "    'palette': ['black', 'blue', 'purple', 'cyan', 'green', 'yellow', 'red']\n",
    "}\n",
    "Map.addLayer(image.mean(), band_viz, 'methane')\n",
    "Map.setCenter(-74.297333, 4.570868, 5);\n",
    "\n",
    "# Se define la region de interes\n",
    "xMin = -65.654297\n",
    "yMin = -4.954507\n",
    "xMax = -82.573242\n",
    "yMax = 13.330474\n",
    "region = ee.Geometry.Rectangle([\n",
    "    [xMin, yMin],\n",
    "    [xMax, yMax]\n",
    "  ])"
   ]
  },
  {
   "cell_type": "code",
   "execution_count": 90,
   "id": "95e499cf-7655-4521-90d9-98f1678fa8dc",
   "metadata": {},
   "outputs": [
    {
     "data": {
      "text/plain": [
       "ee.image.Image"
      ]
     },
     "execution_count": 90,
     "metadata": {},
     "output_type": "execute_result"
    }
   ],
   "source": [
    "# se obtiene las coordenadas de la región dibujndo la region con un poligono\n",
    "#region = Map.user_roi #.getInfo()\n",
    "#print(region)\n",
    "mean=image.mean()\n",
    "type(mean.toArray())"
   ]
  },
  {
   "cell_type": "code",
   "execution_count": 11,
   "id": "b78ad942-d6de-4b3a-a765-fd3a4ed97303",
   "metadata": {},
   "outputs": [],
   "source": [
    "#Map.addLayer(image.mean(), band_viz, 'S5P Cloud')\n",
    "#geemap.clip_image(Map, region, Map)\n"
   ]
  },
  {
   "cell_type": "markdown",
   "id": "18de47ec-5ba8-4958-9f41-190c88ab1755",
   "metadata": {},
   "source": [
    "El resultado de dibujar el poligono y obtener las coordenadas es un json:\n",
    "\n",
    "ee.Geometry({\n",
    "  \"functionInvocationValue\": {\n",
    "    \"functionName\": \"GeometryConstructors.Polygon\",\n",
    "    \"arguments\": {\n",
    "      \"coordinates\": {\n",
    "        \"constantValue\": [\n",
    "          [\n",
    "            [\n",
    "              -82.573242,\n",
    "              -4.954507\n",
    "            ],\n",
    "            [\n",
    "              -82.573242,\n",
    "              13.330474\n",
    "            ],\n",
    "            [\n",
    "              -65.654297,\n",
    "              13.330474\n",
    "            ],\n",
    "            [\n",
    "              -65.654297,\n",
    "              -4.954507\n",
    "            ],\n",
    "            [\n",
    "              -82.573242,\n",
    "              -4.954507\n",
    "            ]\n",
    "          ]\n",
    "        ]\n",
    "      }\n",
    "    }\n",
    "  }\n",
    "})\n"
   ]
  },
  {
   "cell_type": "code",
   "execution_count": 14,
   "id": "e1aa284d-15de-43ed-8b80-8a5fcd15996a",
   "metadata": {},
   "outputs": [
    {
     "data": {
      "application/vnd.jupyter.widget-view+json": {
       "model_id": "0f26a611163c4385939d23555369867d",
       "version_major": 2,
       "version_minor": 0
      },
      "text/plain": [
       "Map(bottom=4292.0, center=[4.570868, -74.297333], controls=(WidgetControl(options=['position', 'transparent_bg…"
      ]
     },
     "execution_count": 14,
     "metadata": {},
     "output_type": "execute_result"
    }
   ],
   "source": [
    "# Mosaic the visualization layers and display (or export).\n",
    "mosaic = image.mosaic()\n",
    "# Map.addLayer(mosaic, {}, 'mosaic', False)\n",
    "\n",
    "# Create a circle by drawing a 20000 meter buffer around a point.\n",
    "clipped = mosaic.clip(region)\n",
    "\n",
    "# Display a clipped version of the mosaic.\n",
    "band_viz = {\n",
    "    'min': 0,\n",
    "    'max': 0.95,\n",
    "    'palette': ['black', 'blue', 'purple', 'cyan', 'green', 'yellow', 'red']\n",
    "}\n",
    "Map.addLayer(clipped, band_viz, 'Clipped image')\n",
    "\n",
    "# Display the map\n",
    "Map"
   ]
  },
  {
   "cell_type": "code",
   "execution_count": 12,
   "id": "adc0dbfc-47d4-4361-b85e-262a1d4ca82b",
   "metadata": {},
   "outputs": [
    {
     "name": "stdout",
     "output_type": "stream",
     "text": [
      "Object `ee.Export` not found.\n"
     ]
    }
   ],
   "source": [
    "ee.Export?"
   ]
  },
  {
   "cell_type": "code",
   "execution_count": null,
   "id": "75ae782d-1493-49c2-a0e1-070f473bc95b",
   "metadata": {},
   "outputs": [],
   "source": []
  }
 ],
 "metadata": {
  "kernelspec": {
   "display_name": "Python 3 (ipykernel)",
   "language": "python",
   "name": "python3"
  },
  "language_info": {
   "codemirror_mode": {
    "name": "ipython",
    "version": 3
   },
   "file_extension": ".py",
   "mimetype": "text/x-python",
   "name": "python",
   "nbconvert_exporter": "python",
   "pygments_lexer": "ipython3",
   "version": "3.9.15"
  }
 },
 "nbformat": 4,
 "nbformat_minor": 5
}
