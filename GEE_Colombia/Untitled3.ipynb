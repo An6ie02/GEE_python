{
 "cells": [
  {
   "cell_type": "markdown",
   "id": "38f88aed-e9a9-46d8-895b-87577478e42d",
   "metadata": {},
   "source": [
    "# Measurements and Analisys of Methane in Colombia\n"
   ]
  },
  {
   "cell_type": "code",
   "execution_count": 11,
   "id": "1430a04c-401c-4eed-bbb9-4e101263aa5d",
   "metadata": {},
   "outputs": [],
   "source": [
    "# Import all libraries\n",
    "\n",
    "import os\n",
    "os.environ['USE_PYGEOS'] = '0'\n",
    "import ee\n",
    "import geemap\n",
    "import geopandas as gdp\n",
    "from ipyleaflet import GeoJSON\n",
    "from zipfile import ZipFile\n",
    "from geeS2downloader import GEES2Downloader\n",
    "import numpy as np\n",
    "\n",
    "\n",
    "# Initializate GEE API\n",
    "ee.Initialize()"
   ]
  },
  {
   "cell_type": "markdown",
   "id": "325bac15-e5ea-4a56-bda3-2306b0c0691e",
   "metadata": {},
   "source": [
    "### 1. Defining wish satellite is to be used and their input parameters\n",
    "\n"
   ]
  },
  {
   "cell_type": "code",
   "execution_count": 12,
   "id": "242c3a8a-cc2c-4dee-a6ec-4e782f95dad4",
   "metadata": {},
   "outputs": [],
   "source": [
    "satellite = 'COPERNICUS/S5P/OFFL/L3_CH4'\n",
    "layer = 'CH4_column_volume_mixing_ratio_dry_air_bias_corrected'\n",
    "initDate = '2018-05-31'\n",
    "finalDate = '2022-12-31'\n"
   ]
  },
  {
   "cell_type": "markdown",
   "id": "aef2a212-36f2-4890-a4b3-9be476ddc00a",
   "metadata": {},
   "source": [
    "### 2. Importing all shp files and satellite images"
   ]
  },
  {
   "cell_type": "code",
   "execution_count": 13,
   "id": "9d6590df-aa98-4b1c-9adb-f46044ed6eb1",
   "metadata": {},
   "outputs": [],
   "source": [
    "def getImageCollection(satellite, layer, initDate, finalDate):\n",
    "    \n",
    "    imageCollection = ee.ImageCollection(satellite).select(layer).filterDate(initDate, finalDate)\n",
    "    return imageCollection\n",
    "\n",
    "fronterasMaritimasCol = ee.FeatureCollection('projects/ee-jolejua/assets/EEZ_land_union_v3_202003')\n",
    "fronterasMaritimasCol = fronterasMaritimasCol.filter(ee.Filter.eq('UNION', 'Colombia'))\n",
    "\n",
    "\n",
    "methaneImageCollection = getImageCollection(satellite, layer, initDate, finalDate)"
   ]
  },
  {
   "cell_type": "markdown",
   "id": "6f81a10a-f838-4d28-b32e-8b429d3e2c45",
   "metadata": {},
   "source": [
    "### 3. Clip image of interest to colombia shape"
   ]
  },
  {
   "cell_type": "code",
   "execution_count": 14,
   "id": "63bd7d92-a623-4df7-bc18-55b389c4cd97",
   "metadata": {},
   "outputs": [],
   "source": [
    "methaneImageClip = methaneImageCollection.mean()\n",
    "methaneImageClip = methaneImageClip.clip(fronterasMaritimasCol)\n"
   ]
  },
  {
   "cell_type": "markdown",
   "id": "c543638b-9b39-4e42-ba60-a06108e3ed6a",
   "metadata": {},
   "source": [
    "### 4. Model training"
   ]
  },
  {
   "cell_type": "code",
   "execution_count": 5,
   "id": "fac3126f-82d8-4275-bff3-154af3365e6f",
   "metadata": {},
   "outputs": [],
   "source": [
    "methaneImageCollectionClip = ee.ImageCollection.fromImages([methaneImageClip]) # from Image to ImageCollection\n",
    "\n",
    "pixelsSample = methaneImageClip.sample(region = fronterasMaritimasCol.geometry(), scale=5000, factor = 1, geometries=True) # generate a sample of the pixels in the images\n",
    "\n",
    "n_clusters = 3\n",
    "clusterer = ee.Clusterer.wekaKMeans(n_clusters).train(pixelsSample)\n",
    "result = methaneImageClip.cluster(clusterer)\n"
   ]
  },
  {
   "cell_type": "code",
   "execution_count": 6,
   "id": "067b0c14-82be-43a6-a5e0-72f9119061a7",
   "metadata": {},
   "outputs": [
    {
     "ename": "EEException",
     "evalue": "Computation timed out.",
     "output_type": "error",
     "traceback": [
      "\u001b[0;31m---------------------------------------------------------------------------\u001b[0m",
      "\u001b[0;31mHttpError\u001b[0m                                 Traceback (most recent call last)",
      "File \u001b[0;32m~/anaconda3/envs/HIDES/lib/python3.10/site-packages/ee/data.py:326\u001b[0m, in \u001b[0;36m_execute_cloud_call\u001b[0;34m(call, num_retries)\u001b[0m\n\u001b[1;32m    325\u001b[0m \u001b[38;5;28;01mtry\u001b[39;00m:\n\u001b[0;32m--> 326\u001b[0m   \u001b[38;5;28;01mreturn\u001b[39;00m \u001b[43mcall\u001b[49m\u001b[38;5;241;43m.\u001b[39;49m\u001b[43mexecute\u001b[49m\u001b[43m(\u001b[49m\u001b[43mnum_retries\u001b[49m\u001b[38;5;241;43m=\u001b[39;49m\u001b[43mnum_retries\u001b[49m\u001b[43m)\u001b[49m\n\u001b[1;32m    327\u001b[0m \u001b[38;5;28;01mexcept\u001b[39;00m googleapiclient\u001b[38;5;241m.\u001b[39merrors\u001b[38;5;241m.\u001b[39mHttpError \u001b[38;5;28;01mas\u001b[39;00m e:\n",
      "File \u001b[0;32m~/anaconda3/envs/HIDES/lib/python3.10/site-packages/googleapiclient/_helpers.py:130\u001b[0m, in \u001b[0;36mpositional.<locals>.positional_decorator.<locals>.positional_wrapper\u001b[0;34m(*args, **kwargs)\u001b[0m\n\u001b[1;32m    129\u001b[0m         logger\u001b[38;5;241m.\u001b[39mwarning(message)\n\u001b[0;32m--> 130\u001b[0m \u001b[38;5;28;01mreturn\u001b[39;00m \u001b[43mwrapped\u001b[49m\u001b[43m(\u001b[49m\u001b[38;5;241;43m*\u001b[39;49m\u001b[43margs\u001b[49m\u001b[43m,\u001b[49m\u001b[43m \u001b[49m\u001b[38;5;241;43m*\u001b[39;49m\u001b[38;5;241;43m*\u001b[39;49m\u001b[43mkwargs\u001b[49m\u001b[43m)\u001b[49m\n",
      "File \u001b[0;32m~/anaconda3/envs/HIDES/lib/python3.10/site-packages/googleapiclient/http.py:939\u001b[0m, in \u001b[0;36mHttpRequest.execute\u001b[0;34m(self, http, num_retries)\u001b[0m\n\u001b[1;32m    938\u001b[0m     \u001b[38;5;28;01mraise\u001b[39;00m HttpError(resp, content, uri\u001b[38;5;241m=\u001b[39m\u001b[38;5;28mself\u001b[39m\u001b[38;5;241m.\u001b[39muri)\n\u001b[0;32m--> 939\u001b[0m \u001b[38;5;28;01mreturn\u001b[39;00m \u001b[38;5;28;43mself\u001b[39;49m\u001b[38;5;241;43m.\u001b[39;49m\u001b[43mpostproc\u001b[49m\u001b[43m(\u001b[49m\u001b[43mresp\u001b[49m\u001b[43m,\u001b[49m\u001b[43m \u001b[49m\u001b[43mcontent\u001b[49m\u001b[43m)\u001b[49m\n",
      "File \u001b[0;32m~/anaconda3/envs/HIDES/lib/python3.10/site-packages/googleapiclient/model.py:221\u001b[0m, in \u001b[0;36mBaseModel.response\u001b[0;34m(self, resp, content)\u001b[0m\n\u001b[1;32m    220\u001b[0m LOGGER\u001b[38;5;241m.\u001b[39mdebug(\u001b[38;5;124m\"\u001b[39m\u001b[38;5;124mContent from bad request was: \u001b[39m\u001b[38;5;132;01m%r\u001b[39;00m\u001b[38;5;124m\"\u001b[39m \u001b[38;5;241m%\u001b[39m content)\n\u001b[0;32m--> 221\u001b[0m \u001b[38;5;28;01mraise\u001b[39;00m HttpError(resp, content)\n",
      "\u001b[0;31mHttpError\u001b[0m: <HttpError 400 when requesting None returned \"Computation timed out.\". Details: \"Computation timed out.\">",
      "\nDuring handling of the above exception, another exception occurred:\n",
      "\u001b[0;31mEEException\u001b[0m                               Traceback (most recent call last)",
      "Cell \u001b[0;32mIn[6], line 2\u001b[0m\n\u001b[1;32m      1\u001b[0m Map \u001b[38;5;241m=\u001b[39m geemap\u001b[38;5;241m.\u001b[39mMap(center\u001b[38;5;241m=\u001b[39m(\u001b[38;5;241m4.6\u001b[39m,\u001b[38;5;241m-\u001b[39m\u001b[38;5;241m74\u001b[39m),zoom\u001b[38;5;241m=\u001b[39m\u001b[38;5;241m9\u001b[39m)\n\u001b[0;32m----> 2\u001b[0m \u001b[43mMap\u001b[49m\u001b[38;5;241;43m.\u001b[39;49m\u001b[43maddLayer\u001b[49m\u001b[43m(\u001b[49m\u001b[43mresult\u001b[49m\u001b[38;5;241;43m.\u001b[39;49m\u001b[43mrandomVisualizer\u001b[49m\u001b[43m(\u001b[49m\u001b[43m)\u001b[49m\u001b[43m,\u001b[49m\u001b[43m \u001b[49m\u001b[43m{\u001b[49m\u001b[43m}\u001b[49m\u001b[43m,\u001b[49m\u001b[43m \u001b[49m\u001b[38;5;124;43m'\u001b[39;49m\u001b[38;5;124;43mclusters\u001b[39;49m\u001b[38;5;124;43m'\u001b[39;49m\u001b[43m)\u001b[49m\n\u001b[1;32m      3\u001b[0m Map\n",
      "File \u001b[0;32m~/anaconda3/envs/HIDES/lib/python3.10/site-packages/geemap/geemap.py:1490\u001b[0m, in \u001b[0;36mMap.add_ee_layer\u001b[0;34m(self, ee_object, vis_params, name, shown, opacity)\u001b[0m\n\u001b[1;32m   1485\u001b[0m     \u001b[38;5;28;01melif\u001b[39;00m \u001b[38;5;129;01mnot\u001b[39;00m \u001b[38;5;28misinstance\u001b[39m(vis_params[\u001b[38;5;124m\"\u001b[39m\u001b[38;5;124mpalette\u001b[39m\u001b[38;5;124m\"\u001b[39m], \u001b[38;5;28mlist\u001b[39m):\n\u001b[1;32m   1486\u001b[0m         \u001b[38;5;28;01mraise\u001b[39;00m \u001b[38;5;167;01mValueError\u001b[39;00m(\n\u001b[1;32m   1487\u001b[0m             \u001b[38;5;124m\"\u001b[39m\u001b[38;5;124mThe palette must be a list of colors or a string or a Box object.\u001b[39m\u001b[38;5;124m\"\u001b[39m\n\u001b[1;32m   1488\u001b[0m         )\n\u001b[0;32m-> 1490\u001b[0m map_id_dict \u001b[38;5;241m=\u001b[39m \u001b[43mee\u001b[49m\u001b[38;5;241;43m.\u001b[39;49m\u001b[43mImage\u001b[49m\u001b[43m(\u001b[49m\u001b[43mimage\u001b[49m\u001b[43m)\u001b[49m\u001b[38;5;241;43m.\u001b[39;49m\u001b[43mgetMapId\u001b[49m\u001b[43m(\u001b[49m\u001b[43mvis_params\u001b[49m\u001b[43m)\u001b[49m\n\u001b[1;32m   1491\u001b[0m url \u001b[38;5;241m=\u001b[39m map_id_dict[\u001b[38;5;124m\"\u001b[39m\u001b[38;5;124mtile_fetcher\u001b[39m\u001b[38;5;124m\"\u001b[39m]\u001b[38;5;241m.\u001b[39murl_format\n\u001b[1;32m   1492\u001b[0m tile_layer \u001b[38;5;241m=\u001b[39m ipyleaflet\u001b[38;5;241m.\u001b[39mTileLayer(\n\u001b[1;32m   1493\u001b[0m     url\u001b[38;5;241m=\u001b[39murl,\n\u001b[1;32m   1494\u001b[0m     attribution\u001b[38;5;241m=\u001b[39m\u001b[38;5;124m\"\u001b[39m\u001b[38;5;124mGoogle Earth Engine\u001b[39m\u001b[38;5;124m\"\u001b[39m,\n\u001b[0;32m   (...)\u001b[0m\n\u001b[1;32m   1498\u001b[0m     max_zoom\u001b[38;5;241m=\u001b[39m\u001b[38;5;241m24\u001b[39m,\n\u001b[1;32m   1499\u001b[0m )\n",
      "File \u001b[0;32m~/anaconda3/envs/HIDES/lib/python3.10/site-packages/ee/image.py:130\u001b[0m, in \u001b[0;36mImage.getMapId\u001b[0;34m(self, vis_params)\u001b[0m\n\u001b[1;32m    128\u001b[0m vis_image, request \u001b[38;5;241m=\u001b[39m \u001b[38;5;28mself\u001b[39m\u001b[38;5;241m.\u001b[39m_apply_visualization(vis_params)\n\u001b[1;32m    129\u001b[0m request[\u001b[38;5;124m'\u001b[39m\u001b[38;5;124mimage\u001b[39m\u001b[38;5;124m'\u001b[39m] \u001b[38;5;241m=\u001b[39m vis_image\n\u001b[0;32m--> 130\u001b[0m response \u001b[38;5;241m=\u001b[39m \u001b[43mdata\u001b[49m\u001b[38;5;241;43m.\u001b[39;49m\u001b[43mgetMapId\u001b[49m\u001b[43m(\u001b[49m\u001b[43mrequest\u001b[49m\u001b[43m)\u001b[49m\n\u001b[1;32m    131\u001b[0m response[\u001b[38;5;124m'\u001b[39m\u001b[38;5;124mimage\u001b[39m\u001b[38;5;124m'\u001b[39m] \u001b[38;5;241m=\u001b[39m \u001b[38;5;28mself\u001b[39m\n\u001b[1;32m    132\u001b[0m \u001b[38;5;28;01mreturn\u001b[39;00m response\n",
      "File \u001b[0;32m~/anaconda3/envs/HIDES/lib/python3.10/site-packages/ee/data.py:607\u001b[0m, in \u001b[0;36mgetMapId\u001b[0;34m(params)\u001b[0m\n\u001b[1;32m    602\u001b[0m queryParams \u001b[38;5;241m=\u001b[39m {\n\u001b[1;32m    603\u001b[0m     \u001b[38;5;124m'\u001b[39m\u001b[38;5;124mfields\u001b[39m\u001b[38;5;124m'\u001b[39m: \u001b[38;5;124m'\u001b[39m\u001b[38;5;124mname\u001b[39m\u001b[38;5;124m'\u001b[39m,\n\u001b[1;32m    604\u001b[0m     \u001b[38;5;124m'\u001b[39m\u001b[38;5;124mbody\u001b[39m\u001b[38;5;124m'\u001b[39m: request,\n\u001b[1;32m    605\u001b[0m }\n\u001b[1;32m    606\u001b[0m _maybe_populate_workload_tag(queryParams)\n\u001b[0;32m--> 607\u001b[0m result \u001b[38;5;241m=\u001b[39m \u001b[43m_execute_cloud_call\u001b[49m\u001b[43m(\u001b[49m\n\u001b[1;32m    608\u001b[0m \u001b[43m    \u001b[49m\u001b[43m_get_cloud_api_resource\u001b[49m\u001b[43m(\u001b[49m\u001b[43m)\u001b[49m\u001b[38;5;241;43m.\u001b[39;49m\u001b[43mprojects\u001b[49m\u001b[43m(\u001b[49m\u001b[43m)\u001b[49m\u001b[38;5;241;43m.\u001b[39;49m\u001b[43mmaps\u001b[49m\u001b[43m(\u001b[49m\u001b[43m)\u001b[49m\u001b[38;5;241;43m.\u001b[39;49m\u001b[43mcreate\u001b[49m\u001b[43m(\u001b[49m\n\u001b[1;32m    609\u001b[0m \u001b[43m        \u001b[49m\u001b[43mparent\u001b[49m\u001b[38;5;241;43m=\u001b[39;49m\u001b[43m_get_projects_path\u001b[49m\u001b[43m(\u001b[49m\u001b[43m)\u001b[49m\u001b[43m,\u001b[49m\u001b[43m \u001b[49m\u001b[38;5;241;43m*\u001b[39;49m\u001b[38;5;241;43m*\u001b[39;49m\u001b[43mqueryParams\u001b[49m\u001b[43m)\u001b[49m\u001b[43m)\u001b[49m\n\u001b[1;32m    610\u001b[0m map_name \u001b[38;5;241m=\u001b[39m result[\u001b[38;5;124m'\u001b[39m\u001b[38;5;124mname\u001b[39m\u001b[38;5;124m'\u001b[39m]\n\u001b[1;32m    611\u001b[0m url_format \u001b[38;5;241m=\u001b[39m \u001b[38;5;124m'\u001b[39m\u001b[38;5;132;01m%s\u001b[39;00m\u001b[38;5;124m/\u001b[39m\u001b[38;5;132;01m%s\u001b[39;00m\u001b[38;5;124m/\u001b[39m\u001b[38;5;132;01m%s\u001b[39;00m\u001b[38;5;124m/tiles/\u001b[39m\u001b[38;5;132;01m{z}\u001b[39;00m\u001b[38;5;124m/\u001b[39m\u001b[38;5;132;01m{x}\u001b[39;00m\u001b[38;5;124m/\u001b[39m\u001b[38;5;132;01m{y}\u001b[39;00m\u001b[38;5;124m'\u001b[39m \u001b[38;5;241m%\u001b[39m (\n\u001b[1;32m    612\u001b[0m     _tile_base_url, _cloud_api_utils\u001b[38;5;241m.\u001b[39mVERSION, map_name)\n",
      "File \u001b[0;32m~/anaconda3/envs/HIDES/lib/python3.10/site-packages/ee/data.py:328\u001b[0m, in \u001b[0;36m_execute_cloud_call\u001b[0;34m(call, num_retries)\u001b[0m\n\u001b[1;32m    326\u001b[0m   \u001b[38;5;28;01mreturn\u001b[39;00m call\u001b[38;5;241m.\u001b[39mexecute(num_retries\u001b[38;5;241m=\u001b[39mnum_retries)\n\u001b[1;32m    327\u001b[0m \u001b[38;5;28;01mexcept\u001b[39;00m googleapiclient\u001b[38;5;241m.\u001b[39merrors\u001b[38;5;241m.\u001b[39mHttpError \u001b[38;5;28;01mas\u001b[39;00m e:\n\u001b[0;32m--> 328\u001b[0m   \u001b[38;5;28;01mraise\u001b[39;00m _translate_cloud_exception(e)\n",
      "\u001b[0;31mEEException\u001b[0m: Computation timed out."
     ]
    }
   ],
   "source": [
    "Map = geemap.Map(center=(4.6,-74),zoom=9)\n",
    "Map.addLayer(result.randomVisualizer(), {}, 'clusters')\n",
    "Map"
   ]
  },
  {
   "cell_type": "markdown",
   "id": "a0093f67-ee8e-4608-88fc-9619088f2259",
   "metadata": {},
   "source": [
    "### 5. Means specifics data per year or month"
   ]
  },
  {
   "cell_type": "code",
   "execution_count": 17,
   "id": "59bc2f63-967e-4ffe-a404-50587acbc83e",
   "metadata": {},
   "outputs": [
    {
     "name": "stdout",
     "output_type": "stream",
     "text": [
      "2022-06-19 00:00:00\n"
     ]
    },
    {
     "ename": "AttributeError",
     "evalue": "'datetime.datetime' object has no attribute 'split'",
     "output_type": "error",
     "traceback": [
      "\u001b[0;31m---------------------------------------------------------------------------\u001b[0m",
      "\u001b[0;31mAttributeError\u001b[0m                            Traceback (most recent call last)",
      "Cell \u001b[0;32mIn[17], line 38\u001b[0m\n\u001b[1;32m     36\u001b[0m s_date \u001b[38;5;241m=\u001b[39m \u001b[38;5;124m'\u001b[39m\u001b[38;5;124m2018-05-31\u001b[39m\u001b[38;5;124m'\u001b[39m \u001b[38;5;66;03m#Primera fecha disponible en el satelite\u001b[39;00m\n\u001b[1;32m     37\u001b[0m e_date\u001b[38;5;241m=\u001b[39m\u001b[38;5;124m'\u001b[39m\u001b[38;5;124m2022-04-19\u001b[39m\u001b[38;5;124m'\u001b[39m\n\u001b[0;32m---> 38\u001b[0m imagenes, date \u001b[38;5;241m=\u001b[39m \u001b[43mgetImageRange\u001b[49m\u001b[43m(\u001b[49m\u001b[43msatellite\u001b[49m\u001b[43m,\u001b[49m\u001b[43m \u001b[49m\u001b[43mlayer\u001b[49m\u001b[43m,\u001b[49m\u001b[43m \u001b[49m\u001b[43ms_date\u001b[49m\u001b[43m,\u001b[49m\u001b[43m \u001b[49m\u001b[43me_date\u001b[49m\u001b[43m)\u001b[49m\n",
      "Cell \u001b[0;32mIn[17], line 32\u001b[0m, in \u001b[0;36mgetImageRange\u001b[0;34m(satellite, layer, startDate, endDate)\u001b[0m\n\u001b[1;32m     30\u001b[0m     endDate \u001b[38;5;241m=\u001b[39m newEndDate\n\u001b[1;32m     31\u001b[0m     \u001b[38;5;28mprint\u001b[39m(endDate)\n\u001b[0;32m---> 32\u001b[0m     endDate \u001b[38;5;241m=\u001b[39m \u001b[43mendDate\u001b[49m\u001b[38;5;241;43m.\u001b[39;49m\u001b[43msplit\u001b[49m()[\u001b[38;5;241m0\u001b[39m]\n\u001b[1;32m     33\u001b[0m     \u001b[38;5;28mprint\u001b[39m(endDate)\n\u001b[1;32m     35\u001b[0m \u001b[38;5;28;01mreturn\u001b[39;00m imagenes, date\n",
      "\u001b[0;31mAttributeError\u001b[0m: 'datetime.datetime' object has no attribute 'split'"
     ]
    }
   ],
   "source": [
    "from datetime import datetime\n",
    "import numpy as np\n",
    "from dateutil.relativedelta import relativedelta\n",
    "\n",
    "\n",
    "\n",
    "\n",
    "def getImageRange(satellite, layer, startDate, endDate):\n",
    "    \n",
    "    date_format = '%Y-%m-%d'\n",
    "    endDate = datetime.strptime(endDate, date_format)\n",
    "    startDate = datetime.strptime(startDate, date_format)\n",
    "    difference = relativedelta(endDate, startDate)\n",
    "    date_i = endDate + relativedelta(months=1)\n",
    "    months = difference.years * 12 + difference.months\n",
    "    \n",
    "    imagenes = np.array([[0, 0, 0, 0, 0, 0, 0, 0, 0, 0, 0, 0, 0]])\n",
    "    \n",
    "    for i in range(months):\n",
    "        \n",
    "        satRowImage = ee.ImageCollection(satellite).select(layer).filterDate(startDate, date_i)\n",
    "        meanSatImage = satRowImage.mean()\n",
    "        clipSatImage = meanSatImage.clip(fronterasMaritimasCol)\n",
    "        \n",
    "        \n",
    "        startDate = date_i\n",
    "        newEndDate = date_i + relativedelta(months=1)\n",
    "        \n",
    "        endDate = newEndDate\n",
    "        print(endDate)\n",
    "        \n",
    "    return imagenes, date\n",
    "s_date = '2018-05-31' #Primera fecha disponible en el satelite\n",
    "e_date='2022-04-19'\n",
    "imagenes, date = getImageRange(satellite, layer, s_date, e_date)"
   ]
  },
  {
   "cell_type": "code",
   "execution_count": 9,
   "id": "a0d85199-95bf-40ce-8e40-1516e3623705",
   "metadata": {},
   "outputs": [
    {
     "data": {
      "application/vnd.jupyter.widget-view+json": {
       "model_id": "b63aecdcd58d49fbae72d52a93eda45d",
       "version_major": 2,
       "version_minor": 0
      },
      "text/plain": [
       "Map(center=[4.6, -74], controls=(WidgetControl(options=['position', 'transparent_bg'], widget=HBox(children=(T…"
      ]
     },
     "execution_count": 9,
     "metadata": {},
     "output_type": "execute_result"
    }
   ],
   "source": [
    "collection = ee.ImageCollection.fromImages(imagenes)\n",
    "vis_params = {\n",
    "    'min': 1600, \n",
    "    'max': 2000,\n",
    "    'palette': ['black', 'blue', 'purple', 'cyan', 'green', 'yellow', 'red'],\n",
    "    'opacity': 0.8\n",
    "}\n",
    "#Arreglar límites para la emisión\n",
    "image = ee.Image(collection.mean())\n",
    "Mapg = geemap.Map(center=(4.6,-74),zoom=5.3)\n",
    "Mapg.addLayer(image, vis_params, 'First image',True,0.9)\n",
    "Mapg\n"
   ]
  },
  {
   "cell_type": "code",
   "execution_count": null,
   "id": "78703397-bbfa-49fa-88ca-b19d7a7ccb8d",
   "metadata": {},
   "outputs": [],
   "source": []
  }
 ],
 "metadata": {
  "kernelspec": {
   "display_name": "Python 3 (ipykernel)",
   "language": "python",
   "name": "python3"
  },
  "language_info": {
   "codemirror_mode": {
    "name": "ipython",
    "version": 3
   },
   "file_extension": ".py",
   "mimetype": "text/x-python",
   "name": "python",
   "nbconvert_exporter": "python",
   "pygments_lexer": "ipython3",
   "version": "3.10.9"
  }
 },
 "nbformat": 4,
 "nbformat_minor": 5
}
