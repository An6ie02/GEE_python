{
 "cells": [
  {
   "cell_type": "markdown",
   "id": "87aa27fa-4375-4068-90c9-0e51250b6d24",
   "metadata": {},
   "source": [
    "# Geopandas Representation\n",
    "\n"
   ]
  },
  {
   "cell_type": "code",
   "execution_count": 1,
   "id": "6d3cb32d-df8d-478e-ae55-f084d27859ec",
   "metadata": {},
   "outputs": [],
   "source": [
    "import ee\n",
    "import geemap\n",
    "import geopandas as gpd\n",
    "from ipyleaflet import GeoJSON\n",
    "from zipfile import ZipFile\n",
    "ee.Initialize()\n"
   ]
  },
  {
   "cell_type": "code",
   "execution_count": null,
   "id": "3af5f62a-50de-4720-ba21-6e0f0c9fe6a7",
   "metadata": {},
   "outputs": [],
   "source": [
    "# S5P data\n",
    "\n",
    "initDate = '2018-05-31'\n",
    "finalDate = '2022-12-31'\n",
    "s5p_layer = 'CH4_column_volume_mixing_ratio_dry_air_bias_corrected'\n",
    "s5p_methane_dataset = ee.ImageCollection(\"COPERNICUS/S5P/OFFL/L3_CH4\")\n",
    "s5p_metane = s5p_methane_dataset.select(s5p_layer).filterDate(initDate, finalDate)\n",
    "\n",
    "# Departamentos de Colobia\n",
    "Colombia = ee.FeatureCollection('users/hmojica/data/countries')\n",
    "Departamentos = ee.FeatureCollection('users/hmojica/data/departamentos')\n",
    "\n",
    "# Filtrar los datos en la zona de interes\n",
    "\n",
    "colombia_shp = Colombia.filterMetadata('COUNTRY', 'equals', 'Colombia')\n",
    "s5p_metane_dpto = s5p_metane.filterBounds(colombia_shp)\n",
    "s5p_metane_img = s5p_metane_dpto.map(lambda image: image.clip(colombia_shp))\n",
    "Map.addLayer(s5p_metane_img, s5p_methane_viz, 'methane in COlombia ')\n",
    "\n",
    "Map.centerObject(Colombia, 11)\n",
    "\n"
   ]
  }
 ],
 "metadata": {
  "kernelspec": {
   "display_name": "Python 3 (ipykernel)",
   "language": "python",
   "name": "python3"
  },
  "language_info": {
   "codemirror_mode": {
    "name": "ipython",
    "version": 3
   },
   "file_extension": ".py",
   "mimetype": "text/x-python",
   "name": "python",
   "nbconvert_exporter": "python",
   "pygments_lexer": "ipython3",
   "version": "3.7.16"
  }
 },
 "nbformat": 4,
 "nbformat_minor": 5
}
