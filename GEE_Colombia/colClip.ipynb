{
 "cells": [
  {
   "cell_type": "code",
   "execution_count": 1,
   "id": "bf813619-663a-4c4b-a16f-6f85c01bb506",
   "metadata": {},
   "outputs": [
    {
     "data": {
      "application/vnd.jupyter.widget-view+json": {
       "model_id": "426ed9f45d9e431388ec067c0f6467bc",
       "version_major": 2,
       "version_minor": 0
      },
      "text/plain": [
       "Map(center=[3.8923553006509, -73.07874943313837], controls=(WidgetControl(options=['position', 'transparent_bg…"
      ]
     },
     "execution_count": 1,
     "metadata": {},
     "output_type": "execute_result"
    }
   ],
   "source": [
    "import ee\n",
    "import geemap\n",
    "import geopandas as gpd\n",
    "from ipyleaflet import GeoJSON\n",
    "from zipfile import ZipFile\n",
    "ee.Initialize()\n",
    "\n",
    "# Documentation = https://stackoverflow.com/questions/66374322/imagecollection-filterbounds-is-not-showing-results-from-geometry-input\n",
    "\n",
    "Map = geemap.Map()\n",
    "\n",
    "# retreives geometry for Colombia\n",
    "Colombia = ee.FeatureCollection('users/hmojica/data/departamentos')\n",
    "departamentos = Colombia.filterMetadata('DPTO_CNMBR', 'equals', 'VICHADA')\n",
    "\n",
    "\n",
    "# Para filtrar por departamento: .filterMetadata('DPTO_CNMBR', 'equals', 'VICHADA')\n",
    "\n",
    "style = {'color': '000000', 'width': 2, 'lineType': 'solid', 'fillColor': '00000000'}\n",
    "Map.addLayer(Colombia.style(**style), {}, \"Departamentos\")\n",
    "\n",
    "#Map.addLayer(departamentos, {}, \"Departamentos2\")\n",
    "\n",
    "\n",
    "# clips image to colorado geometry\n",
    "\n",
    "s5p_methane_dataset = ee.ImageCollection(\"COPERNICUS/S5P/OFFL/L3_CH4\").filterBounds(departamentos)\n",
    "\n",
    "\n",
    "# selects dataset to be mapped\n",
    "\n",
    "s5p_metane = s5p_methane_dataset.select('CH4_column_volume_mixing_ratio_dry_air_bias_corrected').filterDate('2022-01-01', '2023-01-01')\n",
    "\n",
    "\n",
    "# Clip to bounds of geometry\n",
    "\n",
    "s5p_metane_img = s5p_metane.map(lambda image: image.clip(departamentos))\n",
    "\n",
    "# sets image variables\n",
    "\n",
    "s5p_methane_viz = {\n",
    "    'min': 1750,\n",
    "    'max': 1900,\n",
    "    'palette': ['black', 'blue', 'purple', 'cyan', 'green', 'yellow', 'red'],\n",
    "    'opacity': 1.0\n",
    "}\n",
    "\n",
    "# adds image layers to map\n",
    "Map.addLayer(s5p_metane_img, s5p_methane_viz, 'methane')\n",
    "Map.centerObject(Colombia, 5);\n",
    "Map\n"
   ]
  },
  {
   "cell_type": "code",
   "execution_count": null,
   "id": "179a995e-4b3a-45ef-9e39-7caa48990aa8",
   "metadata": {},
   "outputs": [],
   "source": []
  }
 ],
 "metadata": {
  "kernelspec": {
   "display_name": "Python 3 (ipykernel)",
   "language": "python",
   "name": "python3"
  },
  "language_info": {
   "codemirror_mode": {
    "name": "ipython",
    "version": 3
   },
   "file_extension": ".py",
   "mimetype": "text/x-python",
   "name": "python",
   "nbconvert_exporter": "python",
   "pygments_lexer": "ipython3",
   "version": "3.10.9"
  }
 },
 "nbformat": 4,
 "nbformat_minor": 5
}
