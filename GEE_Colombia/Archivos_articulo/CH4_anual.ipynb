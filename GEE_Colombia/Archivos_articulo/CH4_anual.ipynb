{
 "cells": [
  {
   "cell_type": "code",
   "execution_count": 2,
   "id": "93f021c8",
   "metadata": {},
   "outputs": [],
   "source": [
    "from satelite import colSatellite\n",
    "from satelite import csv_from_sat\n",
    "from satelite import statAnalisisData\n",
    "import geopandas as gpd\n",
    "import pandas as pd\n",
    "import numpy as np\n",
    "import gstools as gs\n",
    "import matplotlib.pyplot as plt\n",
    "import matplotlib.image as mpimg\n",
    "import ee\n",
    "import folium\n",
    "import urllib.request\n",
    "from io import BytesIO\n",
    "from PIL import Image\n",
    "import geemap\n",
    "\n"
   ]
  },
  {
   "cell_type": "code",
   "execution_count": 3,
   "id": "bb81b055",
   "metadata": {},
   "outputs": [],
   "source": [
    "ee.Initialize(\n",
    "  project='ee-hides',\n",
    "  opt_url='https://earthengine-highvolume.googleapis.com'\n",
    ")\n"
   ]
  },
  {
   "cell_type": "code",
   "execution_count": 4,
   "id": "5aacbf9f",
   "metadata": {},
   "outputs": [],
   "source": [
    "satelliteName = 'COPERNICUS/S5P/OFFL/L3_CH4'\n",
    "layer = 'CH4_column_volume_mixing_ratio_dry_air_bias_corrected'\n",
    "initDate = '2018-05-31'\n",
    "finalDate = '2023-08-25'\n"
   ]
  },
  {
   "cell_type": "code",
   "execution_count": 5,
   "id": "f9684a92",
   "metadata": {},
   "outputs": [
    {
     "name": "stdout",
     "output_type": "stream",
     "text": [
      "plotting aviable regions... \n",
      "\n",
      "---------- Region 1 -----------\n",
      "title: Colombia con sus fronteras maritimas\n",
      "id: fronterasMaritimasCol\n",
      "type:  <class 'ee.featurecollection.FeatureCollection'>\n",
      "--------------------------------\n",
      "selectting fronterasMaritimasColregion\n"
     ]
    }
   ],
   "source": [
    "methaneSat = colSatellite(satelliteName, layer) # crea el objeto\n",
    "methaneImageCollection = methaneSat.getImageCollection(initDate, finalDate) # obtiene datos para las fechas especificadas\n",
    "fronterasMaritimasCol = methaneSat.getROI('fronterasMaritimasCol') # selecciona la region que ya trae el objeto\n",
    "methaneImageClip = methaneSat.clipImage(methaneImageCollection, fronterasMaritimasCol) # Recorta la imagen a una región\n",
    "\n",
    "# Plotting the image prom\n",
    "\n",
    "\n",
    "viz_params = {\n",
    "    'min': 1600,\n",
    "    'max': 2000,\n",
    "    'dimensions': '100x200',\n",
    "    'palette': ['black', 'blue', 'purple', 'cyan', 'green', 'yellow', 'red']\n",
    "}"
   ]
  },
  {
   "cell_type": "code",
   "execution_count": 6,
   "id": "71eb2c9e",
   "metadata": {
    "scrolled": true
   },
   "outputs": [
    {
     "data": {
      "application/vnd.jupyter.widget-view+json": {
       "model_id": "e9519a9327174ce79ff583bbfc496c05",
       "version_major": 2,
       "version_minor": 0
      },
      "text/plain": [
       "Map(center=[4.6, -74], controls=(WidgetControl(options=['position', 'transparent_bg'], widget=HBox(children=(T…"
      ]
     },
     "execution_count": 6,
     "metadata": {},
     "output_type": "execute_result"
    }
   ],
   "source": [
    "Map = geemap.Map()\n",
    "Map.setCenter(-74, 4.6, 5)\n",
    "Map.addLayer(methaneImageClip, viz_params, 'Promedio 5 años')\n",
    "Map"
   ]
  },
  {
   "cell_type": "code",
   "execution_count": 7,
   "id": "48a73f0d",
   "metadata": {},
   "outputs": [],
   "source": [
    "departamentos = ee.FeatureCollection('users/hmojica/data/departamentos')\n",
    "style = {'color': '000000', 'width': 2, 'lineType': 'solid', 'fillColor': '00000000'}\n",
    "Map.addLayer(departamentos.style(**style), {}, \"Departamentos\")"
   ]
  },
  {
   "cell_type": "markdown",
   "id": "8854d6fe",
   "metadata": {},
   "source": [
    "## Emisiones de Metano anualizadas"
   ]
  },
  {
   "cell_type": "markdown",
   "id": "be1f88fc",
   "metadata": {},
   "source": [
    "### Emisiones promedio 2018 - 2019"
   ]
  },
  {
   "cell_type": "code",
   "execution_count": 8,
   "id": "02a0b3cb",
   "metadata": {},
   "outputs": [],
   "source": [
    "initDate = '2018-05-31'\n",
    "finalDate = '2019-05-31'\n",
    "methaneImageCollection_20182019 = methaneSat.getImageCollection(initDate, finalDate) # obtiene datos para las fechas especificadas\n",
    "methaneImageCollection_20182019_clip = methaneSat.clipImage(methaneImageCollection_20182019, fronterasMaritimasCol) # Recorta la imagen a una región\n"
   ]
  },
  {
   "cell_type": "code",
   "execution_count": 9,
   "id": "c8453c2c",
   "metadata": {},
   "outputs": [
    {
     "data": {
      "application/vnd.jupyter.widget-view+json": {
       "model_id": "91e4beb6b1a0484a8402bb27a9f5c4a0",
       "version_major": 2,
       "version_minor": 0
      },
      "text/plain": [
       "Map(center=[4.6, -74], controls=(WidgetControl(options=['position', 'transparent_bg'], widget=HBox(children=(T…"
      ]
     },
     "execution_count": 9,
     "metadata": {},
     "output_type": "execute_result"
    }
   ],
   "source": [
    "Map_2018_2019 = geemap.Map()\n",
    "Map_2018_2019.setCenter(-74, 4.6, 5)\n",
    "Map_2018_2019.addLayer(methaneImageCollection_20182019_clip, viz_params, 'Promedio 2018 - 2020')\n",
    "Map_2018_2019.addLayer(departamentos.style(**style), {}, \"Departamentos\")\n",
    "Map_2018_2019"
   ]
  },
  {
   "cell_type": "markdown",
   "id": "5ac72467",
   "metadata": {},
   "source": [
    "### Emisiones promedio 2019 - 2020"
   ]
  },
  {
   "cell_type": "code",
   "execution_count": 10,
   "id": "82f53168",
   "metadata": {},
   "outputs": [],
   "source": [
    "initDate = '2019-05-31'\n",
    "finalDate = '2020-05-31'\n",
    "methaneImageCollection_20192020 = methaneSat.getImageCollection(initDate, finalDate) # obtiene datos para las fechas especificadas\n",
    "methaneImageCollection_20192020_clip = methaneSat.clipImage(methaneImageCollection_20192020, fronterasMaritimasCol) # Recorta la imagen a una región\n"
   ]
  },
  {
   "cell_type": "code",
   "execution_count": 11,
   "id": "d2ae6b59",
   "metadata": {},
   "outputs": [
    {
     "data": {
      "application/vnd.jupyter.widget-view+json": {
       "model_id": "8cda294ecee34cd0889d6a57d1527504",
       "version_major": 2,
       "version_minor": 0
      },
      "text/plain": [
       "Map(center=[4.6, -74], controls=(WidgetControl(options=['position', 'transparent_bg'], widget=HBox(children=(T…"
      ]
     },
     "execution_count": 11,
     "metadata": {},
     "output_type": "execute_result"
    }
   ],
   "source": [
    "Map_20192020 = geemap.Map()\n",
    "Map_20192020.setCenter(-74, 4.6, 5)\n",
    "Map_20192020.addLayer(methaneImageCollection_20192020_clip, viz_params, 'Promedio 2019 - 2020')\n",
    "Map_20192020.addLayer(departamentos.style(**style), {}, \"Departamentos\")\n",
    "Map_20192020"
   ]
  },
  {
   "cell_type": "markdown",
   "id": "21147cd6",
   "metadata": {},
   "source": [
    "### Emisiones por año 2020 - 2021"
   ]
  },
  {
   "cell_type": "code",
   "execution_count": 12,
   "id": "bb7e02ef",
   "metadata": {},
   "outputs": [],
   "source": [
    "initDate = '2020-05-31'\n",
    "finalDate = '2021-05-31'\n",
    "methaneImageCollection_20202021 = methaneSat.getImageCollection(initDate, finalDate) # obtiene datos para las fechas especificadas\n",
    "methaneImageCollection_20202021_clip = methaneSat.clipImage(methaneImageCollection_20202021, fronterasMaritimasCol) # Recorta la imagen a una región\n"
   ]
  },
  {
   "cell_type": "code",
   "execution_count": 13,
   "id": "0f5c7db3",
   "metadata": {},
   "outputs": [
    {
     "data": {
      "application/vnd.jupyter.widget-view+json": {
       "model_id": "e471323a8bea48d480dbe92b97aa4b5b",
       "version_major": 2,
       "version_minor": 0
      },
      "text/plain": [
       "Map(center=[4.6, -74], controls=(WidgetControl(options=['position', 'transparent_bg'], widget=HBox(children=(T…"
      ]
     },
     "execution_count": 13,
     "metadata": {},
     "output_type": "execute_result"
    }
   ],
   "source": [
    "Map_20202021 = geemap.Map()\n",
    "Map_20202021.setCenter(-74, 4.6, 5)\n",
    "Map_20202021.addLayer(methaneImageCollection_20202021_clip, viz_params, 'Promedio 2020 - 2021')\n",
    "Map_20202021.addLayer(departamentos.style(**style), {}, \"Departamentos\")\n",
    "Map_20202021"
   ]
  },
  {
   "cell_type": "markdown",
   "id": "7da99106",
   "metadata": {},
   "source": [
    "### Emisiones por año 2021 - 2022"
   ]
  },
  {
   "cell_type": "code",
   "execution_count": 14,
   "id": "96c77cbd",
   "metadata": {},
   "outputs": [],
   "source": [
    "initDate = '2021-05-31'\n",
    "finalDate = '2022-05-31'\n",
    "methaneImageCollection_20212022 = methaneSat.getImageCollection(initDate, finalDate) # obtiene datos para las fechas especificadas\n",
    "methaneImageCollection_20212022_clip = methaneSat.clipImage(methaneImageCollection_20212022, fronterasMaritimasCol) # Recorta la imagen a una región\n"
   ]
  },
  {
   "cell_type": "code",
   "execution_count": 15,
   "id": "224a6441",
   "metadata": {},
   "outputs": [
    {
     "data": {
      "application/vnd.jupyter.widget-view+json": {
       "model_id": "4974ae3f76da406dac4c775c9d7065ef",
       "version_major": 2,
       "version_minor": 0
      },
      "text/plain": [
       "Map(center=[4.6, -74], controls=(WidgetControl(options=['position', 'transparent_bg'], widget=HBox(children=(T…"
      ]
     },
     "execution_count": 15,
     "metadata": {},
     "output_type": "execute_result"
    }
   ],
   "source": [
    "Map_20212022 = geemap.Map()\n",
    "Map_20212022.setCenter(-74, 4.6, 5)\n",
    "Map_20212022.addLayer(methaneImageCollection_20212022_clip, viz_params, 'Promedio 2021 - 2022')\n",
    "Map_20212022.addLayer(departamentos.style(**style), {}, \"Departamentos\")\n",
    "Map_20212022"
   ]
  },
  {
   "cell_type": "markdown",
   "id": "56ccb50b",
   "metadata": {},
   "source": [
    "### Emisiones de Metano 2022 - 2023"
   ]
  },
  {
   "cell_type": "code",
   "execution_count": 16,
   "id": "2c330766",
   "metadata": {},
   "outputs": [],
   "source": [
    "initDate = '2022-05-31'\n",
    "finalDate = '2023-08-31'\n",
    "methaneImageCollection_20222023 = methaneSat.getImageCollection(initDate, finalDate) # obtiene datos para las fechas especificadas\n",
    "methaneImageCollection_20222023_clip = methaneSat.clipImage(methaneImageCollection_20222023, fronterasMaritimasCol) # Recorta la imagen a una región\n"
   ]
  },
  {
   "cell_type": "code",
   "execution_count": 17,
   "id": "75ccaad6",
   "metadata": {},
   "outputs": [
    {
     "data": {
      "application/vnd.jupyter.widget-view+json": {
       "model_id": "4ea2c67c1aad4a81bc5917f6ec1cfc56",
       "version_major": 2,
       "version_minor": 0
      },
      "text/plain": [
       "Map(center=[4.6, -74], controls=(WidgetControl(options=['position', 'transparent_bg'], widget=HBox(children=(T…"
      ]
     },
     "execution_count": 17,
     "metadata": {},
     "output_type": "execute_result"
    }
   ],
   "source": [
    "Map_20222023 = geemap.Map()\n",
    "Map_20222023.setCenter(-74, 4.6, 5)\n",
    "Map_20222023.addLayer(methaneImageCollection_20222023_clip, viz_params, 'Promedio 2022 - 2023')\n",
    "Map_20222023.addLayer(departamentos.style(**style), {}, \"Departamentos\")\n",
    "Map_20222023"
   ]
  },
  {
   "cell_type": "code",
   "execution_count": null,
   "id": "35290435",
   "metadata": {},
   "outputs": [],
   "source": []
  }
 ],
 "metadata": {
  "kernelspec": {
   "display_name": "Python 3 (ipykernel)",
   "language": "python",
   "name": "python3"
  },
  "language_info": {
   "codemirror_mode": {
    "name": "ipython",
    "version": 3
   },
   "file_extension": ".py",
   "mimetype": "text/x-python",
   "name": "python",
   "nbconvert_exporter": "python",
   "pygments_lexer": "ipython3",
   "version": "3.9.17"
  }
 },
 "nbformat": 4,
 "nbformat_minor": 5
}
