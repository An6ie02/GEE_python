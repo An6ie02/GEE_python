{
 "cells": [
  {
   "cell_type": "code",
   "execution_count": 4,
   "id": "b1b171e0",
   "metadata": {},
   "outputs": [],
   "source": [
    "import geopandas as gpd\n",
    "import pandas as pd\n",
    "import numpy as np\n",
    "import gstools as gs\n",
    "import matplotlib.pyplot as plt\n",
    "import ee\n",
    "import geemap\n",
    "import requests\n",
    "from shapely.geometry import Polygon\n",
    "from shapely.geometry import Point\n",
    "import tensorflow as tf\n",
    "from tensorflow import keras\n",
    "from tensorflow.keras import layers\n",
    "from datetime import datetime\n",
    "from dateutil.relativedelta import relativedelta\n",
    "import os\n",
    "\n",
    "ee.Initialize()"
   ]
  },
  {
   "cell_type": "code",
   "execution_count": 5,
   "id": "d41a93ba",
   "metadata": {},
   "outputs": [],
   "source": [
    "fronterasMaritimasCol = ee.FeatureCollection('projects/ee-jolejua/assets/EEZ_land_union_v3_202003')\n",
    "fronterasMaritimasCol = fronterasMaritimasCol.filter(ee.Filter.eq('UNION', 'Colombia'))\n",
    "RegionesCol = ee.FeatureCollection('projects/ee-hides/assets/zonas_colombia')\n",
    "world = ee.FeatureCollection(\"FAO/GAUL_SIMPLIFIED_500m/2015/level1\") # Filto de los anteriores datos para Colombia\n",
    "ColombiaTerrestre = world.filter(ee.Filter.eq('ADM0_NAME', 'Colombia')) # Datos de fronteras a nivel departamental"
   ]
  },
  {
   "cell_type": "code",
   "execution_count": 7,
   "id": "06f46e07",
   "metadata": {},
   "outputs": [],
   "source": [
    "#DATOS DEL SATELITE\n",
    "satelite = \"MODIS/061/MOD13Q1\"\n",
    "layer = 'NDVI'\n",
    "\n",
    "# Intervalo de tiempo de interes\n",
    "initDate = '2018-01-01'\n",
    "finalDate = '2018-12-31'\n",
    "\n",
    "dataset = ee.ImageCollection(satelite).filter(ee.Filter.date(initDate, finalDate))\n",
    "ndvi = dataset.select(layer)\n",
    "\n",
    "# Recorte de los datos usando el FeatureCollection\n",
    "ndvi_clipped = ndvi.map(lambda image: image.clip(fronterasMaritimasCol.geometry()))"
   ]
  },
  {
   "cell_type": "code",
   "execution_count": 9,
   "id": "22ac95ff",
   "metadata": {},
   "outputs": [
    {
     "data": {
      "application/vnd.jupyter.widget-view+json": {
       "model_id": "8b4c686371a14413ac2ffc59f21e754a",
       "version_major": 2,
       "version_minor": 0
      },
      "text/plain": [
       "Map(center=[4.6, -74], controls=(WidgetControl(options=['position', 'transparent_bg'], widget=HBox(children=(T…"
      ]
     },
     "execution_count": 9,
     "metadata": {},
     "output_type": "execute_result"
    }
   ],
   "source": [
    "#parametros de visualización para plotear\n",
    "\n",
    "ndviVis = {\n",
    "  'min': 0,\n",
    "  'max': 8000,\n",
    "  'palette': [\n",
    "    'ffffff', 'ce7e45', 'df923d', 'f1b555', 'fcd163', '99b718', '74a901',\n",
    "    '66a000', '529400', '3e8601', '207401', '056201', '004c00', '023b01',\n",
    "    '012e01', '011d01', '011301'\n",
    "  ],\n",
    "}\n",
    "\n",
    "\n",
    "Map = geemap.Map(center=(4.6,-74),zoom=5)\n",
    "Map.addLayer(ndvi_clipped, ndviVis, 'NDVI-Colombia')\n",
    "Map.add_colorbar(vis_params=ndviVis, label='NDVI', layer_name='NDVI-Colombia')\n",
    "# Se cre el mapa y se le agrega la capa para que se muestre\n",
    "\n",
    "Map"
   ]
  },
  {
   "cell_type": "code",
   "execution_count": 17,
   "id": "2cf79d7e",
   "metadata": {},
   "outputs": [
    {
     "data": {
      "application/vnd.jupyter.widget-view+json": {
       "model_id": "999a40e1d5984a749caec70c2e5a0544",
       "version_major": 2,
       "version_minor": 0
      },
      "text/plain": [
       "Map(center=[4.6, -74], controls=(WidgetControl(options=['position', 'transparent_bg'], widget=HBox(children=(T…"
      ]
     },
     "execution_count": 17,
     "metadata": {},
     "output_type": "execute_result"
    }
   ],
   "source": [
    "Map_landCover = geemap.Map(center=(4.6,-74),zoom=5)\n",
    "landCovel_col = ee.FeatureCollection('projects/ee-hides/assets/cobertura_tierra_clc_2018')\n",
    "Map_landCover.addLayer(landCovel_col)\n",
    "Map_landCover"
   ]
  },
  {
   "cell_type": "code",
   "execution_count": 20,
   "id": "b6323463",
   "metadata": {},
   "outputs": [
    {
     "ename": "TypeError",
     "evalue": "getInfo() takes 1 positional argument but 2 were given",
     "output_type": "error",
     "traceback": [
      "\u001b[0;31m---------------------------------------------------------------------------\u001b[0m",
      "\u001b[0;31mTypeError\u001b[0m                                 Traceback (most recent call last)",
      "Cell \u001b[0;32mIn[20], line 1\u001b[0m\n\u001b[0;32m----> 1\u001b[0m \u001b[43mlandCovel_col\u001b[49m\u001b[38;5;241;43m.\u001b[39;49m\u001b[43mgetInfo\u001b[49m\u001b[43m(\u001b[49m\u001b[43m[\u001b[49m\u001b[38;5;241;43m0\u001b[39;49m\u001b[43m]\u001b[49m\u001b[43m)\u001b[49m\n",
      "\u001b[0;31mTypeError\u001b[0m: getInfo() takes 1 positional argument but 2 were given"
     ]
    }
   ],
   "source": [
    "landCovel_col.getInfo([0])\n"
   ]
  },
  {
   "cell_type": "code",
   "execution_count": null,
   "id": "a0ab26f4",
   "metadata": {},
   "outputs": [],
   "source": []
  }
 ],
 "metadata": {
  "kernelspec": {
   "display_name": "Python 3 (ipykernel)",
   "language": "python",
   "name": "python3"
  },
  "language_info": {
   "codemirror_mode": {
    "name": "ipython",
    "version": 3
   },
   "file_extension": ".py",
   "mimetype": "text/x-python",
   "name": "python",
   "nbconvert_exporter": "python",
   "pygments_lexer": "ipython3",
   "version": "3.9.17"
  }
 },
 "nbformat": 4,
 "nbformat_minor": 5
}
