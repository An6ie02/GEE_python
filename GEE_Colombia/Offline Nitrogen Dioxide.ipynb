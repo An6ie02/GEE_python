{
 "cells": [
  {
   "cell_type": "markdown",
   "id": "46982415-20df-4fb0-8b74-9fb104916929",
   "metadata": {},
   "source": [
    "# Nitrogen Dioxide\n"
   ]
  },
  {
   "cell_type": "code",
   "execution_count": 7,
   "id": "4a84efeb-66bf-403e-9eb5-822d850f7a9b",
   "metadata": {
    "tags": []
   },
   "outputs": [
    {
     "data": {
      "application/vnd.jupyter.widget-view+json": {
       "model_id": "0426dfaa96104c8ba3f094ac0be7d4b3",
       "version_major": 2,
       "version_minor": 0
      },
      "text/plain": [
       "Map(center=[20, 0], controls=(WidgetControl(options=['position', 'transparent_bg'], widget=HBox(children=(Togg…"
      ]
     },
     "execution_count": 7,
     "metadata": {},
     "output_type": "execute_result"
    }
   ],
   "source": [
    "import ee\n",
    "import geemap\n",
    "import geopandas as gpd\n",
    "from ipyleaflet import GeoJSON\n",
    "from zipfile import ZipFile\n",
    "\n",
    "ee.Initialize()\n",
    "\n",
    "initDate = '2018-05-31'\n",
    "finalDate = '2022-12-31'\n",
    "s5p_layer = 'NO2_column_number_density'\n",
    "s5p_methane_dataset = ee.ImageCollection(\"COPERNICUS/S5P/OFFL/L3_NO2\")\n",
    "s5p_metane = s5p_methane_dataset.select(s5p_layer).filterDate(initDate, finalDate)\n",
    "\n",
    "\n",
    "Map = geemap.Map()\n",
    "\n",
    "Colombia = ee.FeatureCollection('users/hmojica/data/departamentos')\n",
    "style = {'color': '000000', 'width': 2, 'lineType': 'solid', 'fillColor': '00000000'}\n",
    "Map.addLayer(Colombia.style(**style), {}, \"Departamentos\")\n",
    "\n",
    "\n",
    "\n",
    "departamentosNombres = Colombia.aggregate_array('DPTO_CNMBR').getInfo()\n",
    "\n",
    "\n",
    "s5p_methane_viz = {\n",
    "    'min': 0,\n",
    "    'max': 0.0002,\n",
    "    'palette': ['black', 'blue', 'purple', 'cyan', 'green', 'yellow', 'red'],\n",
    "    'opacity': 0.8\n",
    "}\n",
    "\n",
    "Map\n"
   ]
  },
  {
   "cell_type": "code",
   "execution_count": 8,
   "id": "7ca4fbae-ebcc-43b1-87c5-766bc1712118",
   "metadata": {},
   "outputs": [],
   "source": [
    "countries = ee.FeatureCollection('users/hmojica/data/countries')\n",
    "\n",
    "colombia_shp = countries.filterMetadata('COUNTRY', 'equals', 'Colombia')\n",
    "s5p_metane_dpto = s5p_metane.filterBounds(colombia_shp)\n",
    "s5p_metane_img = s5p_metane_dpto.map(lambda image: image.clip(colombia_shp))\n",
    "Map.addLayer(s5p_metane_img, s5p_methane_viz, 'Total vertical column of NO2 ')\n",
    "\n",
    "Map.centerObject(Colombia, 5)"
   ]
  },
  {
   "cell_type": "code",
   "execution_count": 9,
   "id": "3e44275c-f1a1-4223-ad7b-0dadf3df793f",
   "metadata": {},
   "outputs": [],
   "source": [
    "Map.add_colorbar(\n",
    "    s5p_methane_viz,\n",
    "    label=\"Total vertical column of NO2 (mol/m^2)\",\n",
    "    layer_name=\"Total vertical column of NO2 \",\n",
    "    transparent_bg=True\n",
    ")\n",
    "\n"
   ]
  },
  {
   "cell_type": "code",
   "execution_count": null,
   "id": "d9a96e4a-b02e-4db2-9868-924c077399df",
   "metadata": {},
   "outputs": [],
   "source": []
  }
 ],
 "metadata": {
  "kernelspec": {
   "display_name": "Python 3 (ipykernel)",
   "language": "python",
   "name": "python3"
  },
  "language_info": {
   "codemirror_mode": {
    "name": "ipython",
    "version": 3
   },
   "file_extension": ".py",
   "mimetype": "text/x-python",
   "name": "python",
   "nbconvert_exporter": "python",
   "pygments_lexer": "ipython3",
   "version": "3.10.9"
  }
 },
 "nbformat": 4,
 "nbformat_minor": 5
}
