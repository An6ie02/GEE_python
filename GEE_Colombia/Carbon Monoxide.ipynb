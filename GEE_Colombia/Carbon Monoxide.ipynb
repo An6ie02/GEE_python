{
 "cells": [
  {
   "cell_type": "markdown",
   "id": "46982415-20df-4fb0-8b74-9fb104916929",
   "metadata": {},
   "source": [
    "# Cloud Fraction\n",
    "Carbon Monoxide"
   ]
  },
  {
   "cell_type": "code",
   "execution_count": 15,
   "id": "4a84efeb-66bf-403e-9eb5-822d850f7a9b",
   "metadata": {
    "tags": []
   },
   "outputs": [
    {
     "data": {
      "application/vnd.jupyter.widget-view+json": {
       "model_id": "807c2380f813454e8313f871b81f36ac",
       "version_major": 2,
       "version_minor": 0
      },
      "text/plain": [
       "Map(center=[20, 0], controls=(WidgetControl(options=['position', 'transparent_bg'], widget=HBox(children=(Togg…"
      ]
     },
     "execution_count": 15,
     "metadata": {},
     "output_type": "execute_result"
    }
   ],
   "source": [
    "import ee\n",
    "import geemap\n",
    "import geopandas as gpd\n",
    "from ipyleaflet import GeoJSON\n",
    "from zipfile import ZipFile\n",
    "\n",
    "ee.Initialize()\n",
    "\n",
    "initDate = '2018-05-31'\n",
    "finalDate = '2022-12-31'\n",
    "s5p_layer = 'CO_column_number_density'\n",
    "s5p_methane_dataset = ee.ImageCollection(\"COPERNICUS/S5P/OFFL/L3_CO\")\n",
    "s5p_metane = s5p_methane_dataset.select(s5p_layer).filterDate(initDate, finalDate)\n",
    "\n",
    "\n",
    "Map = geemap.Map()\n",
    "\n",
    "Colombia = ee.FeatureCollection('users/hmojica/data/departamentos')\n",
    "style = {'color': '000000', 'width': 2, 'lineType': 'solid', 'fillColor': '00000000'}\n",
    "Map.addLayer(Colombia.style(**style), {}, \"Departamentos\")\n",
    "\n",
    "\n",
    "\n",
    "departamentosNombres = Colombia.aggregate_array('DPTO_CNMBR').getInfo()\n",
    "\n",
    "\n",
    "s5p_methane_viz = {\n",
    "    'min': 0,\n",
    "    'max': 0.05,\n",
    "    'palette': ['black', 'blue', 'purple', 'cyan', 'green', 'yellow', 'red'],\n",
    "    'opacity': 0.8\n",
    "}\n",
    "\n",
    "Map\n"
   ]
  },
  {
   "cell_type": "code",
   "execution_count": 16,
   "id": "7ca4fbae-ebcc-43b1-87c5-766bc1712118",
   "metadata": {},
   "outputs": [],
   "source": [
    "countries = ee.FeatureCollection('users/hmojica/data/countries')\n",
    "\n",
    "colombia_shp = countries.filterMetadata('COUNTRY', 'equals', 'Colombia')\n",
    "s5p_metane_dpto = s5p_metane.filterBounds(colombia_shp)\n",
    "s5p_metane_img = s5p_metane_dpto.map(lambda image: image.clip(colombia_shp))\n",
    "Map.addLayer(s5p_metane_img, s5p_methane_viz, 'CO column density')\n",
    "\n",
    "Map.centerObject(Colombia, 5)"
   ]
  },
  {
   "cell_type": "code",
   "execution_count": 17,
   "id": "3e44275c-f1a1-4223-ad7b-0dadf3df793f",
   "metadata": {},
   "outputs": [],
   "source": [
    "Map.add_colorbar(\n",
    "    s5p_methane_viz,\n",
    "    label=\"CO column density (mol/m^2)\",\n",
    "    layer_name=\"Vertically integrated CO column density.\",\n",
    "    transparent_bg=True\n",
    ")\n",
    "\n"
   ]
  },
  {
   "cell_type": "code",
   "execution_count": null,
   "id": "d9a96e4a-b02e-4db2-9868-924c077399df",
   "metadata": {},
   "outputs": [],
   "source": []
  }
 ],
 "metadata": {
  "kernelspec": {
   "display_name": "Python 3 (ipykernel)",
   "language": "python",
   "name": "python3"
  },
  "language_info": {
   "codemirror_mode": {
    "name": "ipython",
    "version": 3
   },
   "file_extension": ".py",
   "mimetype": "text/x-python",
   "name": "python",
   "nbconvert_exporter": "python",
   "pygments_lexer": "ipython3",
   "version": "3.9.17"
  }
 },
 "nbformat": 4,
 "nbformat_minor": 5
}
