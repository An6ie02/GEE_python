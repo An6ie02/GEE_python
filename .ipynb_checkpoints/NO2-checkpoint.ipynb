{
 "cells": [
  {
   "cell_type": "code",
   "execution_count": 64,
   "id": "4a84efeb-66bf-403e-9eb5-822d850f7a9b",
   "metadata": {
    "tags": []
   },
   "outputs": [],
   "source": [
    "import ee\n",
    "import geemap\n",
    "ee.Initialize()\n"
   ]
  },
  {
   "cell_type": "code",
   "execution_count": 94,
   "id": "e9e115bc-e72d-46ed-adc9-1f6b5e3db271",
   "metadata": {},
   "outputs": [],
   "source": [
    "image = (ee.ImageCollection(\"COPERNICUS/S5P/OFFL/L3_CLOUD\").\n",
    "         select(\"cloud_fraction\").\n",
    "         filterDate('2022-12-20', '2022-12-21'))\n",
    "\n",
    "Map = geemap.Map()\n",
    "\n",
    "band_viz = {\n",
    "    'min': 0,\n",
    "    'max': 0.95,\n",
    "    'palette': ['black', 'blue', 'purple', 'cyan', 'green', 'yellow', 'red']\n",
    "}"
   ]
  },
  {
   "cell_type": "markdown",
   "id": "357cd72a-5097-4f30-b8e2-159e02a1866e",
   "metadata": {},
   "source": [
    "#### ee.ImageCollection.mean\n",
    "Reduces an image collection by calculating the mean of all values at each pixel across the stack of all matching bands. Bands are matched by name."
   ]
  },
  {
   "cell_type": "code",
   "execution_count": 95,
   "id": "35ac2954-c000-42f4-8978-b57e210a255b",
   "metadata": {},
   "outputs": [],
   "source": [
    "Map.addLayer(image.mean(), band_viz, 'S5P Cloud')\n",
    "Map.setCenter(-74.297333, 4.570868, 5);"
   ]
  },
  {
   "cell_type": "code",
   "execution_count": 96,
   "id": "95e499cf-7655-4521-90d9-98f1678fa8dc",
   "metadata": {},
   "outputs": [],
   "source": [
    "#region = Map.user_roi #.getInfo()\n",
    "#print(region)\n",
    "xMin = -65.654297\n",
    "yMin = -4.954507\n",
    "xMax = -82.573242\n",
    "yMax = 13.330474\n",
    "region = ee.Geometry.Rectangle([\n",
    "    [xMin, yMin],\n",
    "    [xMax, yMax]\n",
    "  ])"
   ]
  },
  {
   "cell_type": "markdown",
   "id": "18de47ec-5ba8-4958-9f41-190c88ab1755",
   "metadata": {},
   "source": [
    "ee.Geometry({\n",
    "  \"functionInvocationValue\": {\n",
    "    \"functionName\": \"GeometryConstructors.Polygon\",\n",
    "    \"arguments\": {\n",
    "      \"coordinates\": {\n",
    "        \"constantValue\": [\n",
    "          [\n",
    "            [\n",
    "              -82.573242,\n",
    "              -4.954507\n",
    "            ],\n",
    "            [\n",
    "              -82.573242,\n",
    "              13.330474\n",
    "            ],\n",
    "            [\n",
    "              -65.654297,\n",
    "              13.330474\n",
    "            ],\n",
    "            [\n",
    "              -65.654297,\n",
    "              -4.954507\n",
    "            ],\n",
    "            [\n",
    "              -82.573242,\n",
    "              -4.954507\n",
    "            ]\n",
    "          ]\n",
    "        ]\n",
    "      }\n",
    "    }\n",
    "  }\n",
    "})\n"
   ]
  },
  {
   "cell_type": "code",
   "execution_count": 97,
   "id": "e1aa284d-15de-43ed-8b80-8a5fcd15996a",
   "metadata": {},
   "outputs": [
    {
     "data": {
      "application/vnd.jupyter.widget-view+json": {
       "model_id": "52972c5107a24386857f0f948f6a1402",
       "version_major": 2,
       "version_minor": 0
      },
      "text/plain": [
       "Map(center=[4.570868, -74.297333], controls=(WidgetControl(options=['position', 'transparent_bg'], widget=HBox…"
      ]
     },
     "metadata": {},
     "output_type": "display_data"
    }
   ],
   "source": [
    "# Mosaic the visualization layers and display (or export).\n",
    "mosaic = image.mosaic()\n",
    "Map.addLayer(mosaic, {}, 'mosaic', False)\n",
    "\n",
    "# Create a circle by drawing a 20000 meter buffer around a point.\n",
    "clipped = mosaic.clip(region)\n",
    "\n",
    "# Display a clipped version of the mosaic.\n",
    "Map.addLayer(clipped, band_viz, 'Clipped image')\n",
    "\n",
    "# Display the map\n",
    "Map"
   ]
  },
  {
   "cell_type": "code",
   "execution_count": null,
   "id": "adc0dbfc-47d4-4361-b85e-262a1d4ca82b",
   "metadata": {},
   "outputs": [],
   "source": []
  },
  {
   "cell_type": "code",
   "execution_count": null,
   "id": "75ae782d-1493-49c2-a0e1-070f473bc95b",
   "metadata": {},
   "outputs": [],
   "source": []
  }
 ],
 "metadata": {
  "kernelspec": {
   "display_name": "Python 3 (ipykernel)",
   "language": "python",
   "name": "python3"
  },
  "language_info": {
   "codemirror_mode": {
    "name": "ipython",
    "version": 3
   },
   "file_extension": ".py",
   "mimetype": "text/x-python",
   "name": "python",
   "nbconvert_exporter": "python",
   "pygments_lexer": "ipython3",
   "version": "3.10.4"
  }
 },
 "nbformat": 4,
 "nbformat_minor": 5
}
