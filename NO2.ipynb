{
 "cells": [
  {
   "cell_type": "code",
   "execution_count": 1,
   "id": "4a84efeb-66bf-403e-9eb5-822d850f7a9b",
   "metadata": {
    "jupyter": {
     "source_hidden": true
    },
    "tags": []
   },
   "outputs": [],
   "source": [
    "import ee\n",
    "import geemap\n",
    "ee.Initialize()\n"
   ]
  },
  {
   "cell_type": "code",
   "execution_count": 5,
   "id": "bff73b73-eb91-453c-9e59-823f9b11e7b9",
   "metadata": {},
   "outputs": [],
   "source": [
    "image = (ee.ImageCollection(\"COPERNICUS/S5P/OFFL/L3_NO2\").\n",
    "         select(\"tropospheric_NO2_column_number_density\").\n",
    "         filterDate('2019-06-01', '2019-06-06'))\n",
    "\n",
    "Map = geemap.Map()\n",
    "\n",
    "viz = {\n",
    "    'min': 0,\n",
    "    'max': 0.0002,\n",
    "    'palette': ['black', 'blue', 'purple', 'cyan', 'green', 'yellow', 'red']\n",
    "}\n",
    "\n"
   ]
  },
  {
   "cell_type": "code",
   "execution_count": 6,
   "id": "35ac2954-c000-42f4-8978-b57e210a255b",
   "metadata": {},
   "outputs": [
    {
     "data": {
      "application/vnd.jupyter.widget-view+json": {
       "model_id": "17576fd45bad423a9098030972a24f27",
       "version_major": 2,
       "version_minor": 0
      },
      "text/plain": [
       "Map(center=[4.570868, -74.297333], controls=(WidgetControl(options=['position', 'transparent_bg'], widget=HBox…"
      ]
     },
     "execution_count": 6,
     "metadata": {},
     "output_type": "execute_result"
    }
   ],
   "source": [
    "         \n",
    "Map.addLayer(image, viz, 'S5P N02')\n",
    "Map.setCenter(-74.297333, 4.570868, 5);\n",
    "Map"
   ]
  },
  {
   "cell_type": "code",
   "execution_count": null,
   "id": "95e499cf-7655-4521-90d9-98f1678fa8dc",
   "metadata": {},
   "outputs": [],
   "source": []
  }
 ],
 "metadata": {
  "kernelspec": {
   "display_name": "Python 3 (ipykernel)",
   "language": "python",
   "name": "python3"
  },
  "language_info": {
   "codemirror_mode": {
    "name": "ipython",
    "version": 3
   },
   "file_extension": ".py",
   "mimetype": "text/x-python",
   "name": "python",
   "nbconvert_exporter": "python",
   "pygments_lexer": "ipython3",
   "version": "3.10.8"
  }
 },
 "nbformat": 4,
 "nbformat_minor": 5
}
